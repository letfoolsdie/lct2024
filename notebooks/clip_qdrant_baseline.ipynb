{
 "cells": [
  {
   "cell_type": "code",
   "execution_count": 4,
   "id": "f415bc68-ac06-45ed-b88e-9374be3e3b4e",
   "metadata": {},
   "outputs": [],
   "source": [
    "import glob\n",
    "import json\n",
    "\n",
    "import numpy as np\n",
    "import pandas as pd\n",
    "from tqdm.notebook import tqdm"
   ]
  },
  {
   "cell_type": "code",
   "execution_count": 2,
   "id": "c9e11d78-1f52-4c07-9275-d9363dd6e241",
   "metadata": {},
   "outputs": [
    {
     "name": "stdout",
     "output_type": "stream",
     "text": [
      "(107225, 4)\n"
     ]
    },
    {
     "data": {
      "text/html": [
       "<div>\n",
       "<style scoped>\n",
       "    .dataframe tbody tr th:only-of-type {\n",
       "        vertical-align: middle;\n",
       "    }\n",
       "\n",
       "    .dataframe tbody tr th {\n",
       "        vertical-align: top;\n",
       "    }\n",
       "\n",
       "    .dataframe thead th {\n",
       "        text-align: right;\n",
       "    }\n",
       "</style>\n",
       "<table border=\"1\" class=\"dataframe\">\n",
       "  <thead>\n",
       "    <tr style=\"text-align: right;\">\n",
       "      <th></th>\n",
       "      <th>link</th>\n",
       "      <th>description</th>\n",
       "      <th>file_key</th>\n",
       "      <th>downloaded</th>\n",
       "    </tr>\n",
       "  </thead>\n",
       "  <tbody>\n",
       "    <tr>\n",
       "      <th>0</th>\n",
       "      <td>https://cdn-st.rutubelist.ru/media/e2/97/f9164...</td>\n",
       "      <td>NaN</td>\n",
       "      <td>f9164f8a41479f961d64842154a7</td>\n",
       "      <td>True</td>\n",
       "    </tr>\n",
       "    <tr>\n",
       "      <th>1</th>\n",
       "      <td>https://cdn-st.rutubelist.ru/media/0f/48/8a1ff...</td>\n",
       "      <td>#diy #постановка #юмор #комедия</td>\n",
       "      <td>8a1ff7324073947a31e80f71d001</td>\n",
       "      <td>True</td>\n",
       "    </tr>\n",
       "  </tbody>\n",
       "</table>\n",
       "</div>"
      ],
      "text/plain": [
       "                                                link  \\\n",
       "0  https://cdn-st.rutubelist.ru/media/e2/97/f9164...   \n",
       "1  https://cdn-st.rutubelist.ru/media/0f/48/8a1ff...   \n",
       "\n",
       "                       description                      file_key  downloaded  \n",
       "0                              NaN  f9164f8a41479f961d64842154a7        True  \n",
       "1  #diy #постановка #юмор #комедия  8a1ff7324073947a31e80f71d001        True  "
      ]
     },
     "execution_count": 2,
     "metadata": {},
     "output_type": "execute_result"
    }
   ],
   "source": [
    "df = pd.read_csv(\"yappy_data_w_clip_embeds.csv\")\n",
    "print(df.shape)\n",
    "df.head(2)"
   ]
  },
  {
   "cell_type": "code",
   "execution_count": 3,
   "id": "16e0c3af-885a-49f9-a173-9bfa705e7548",
   "metadata": {},
   "outputs": [
    {
     "data": {
      "text/plain": [
       "link               0\n",
       "description    14741\n",
       "file_key           0\n",
       "downloaded         0\n",
       "dtype: int64"
      ]
     },
     "execution_count": 3,
     "metadata": {},
     "output_type": "execute_result"
    }
   ],
   "source": [
    "df.isnull().sum(0)"
   ]
  },
  {
   "cell_type": "code",
   "execution_count": 7,
   "id": "1cbe0754-3519-4d4b-9796-45d0911ad3ac",
   "metadata": {},
   "outputs": [],
   "source": [
    "npy_files = sorted(\n",
    "    glob.glob(\"/home/letfd/lct2024_data/data/clip_numpy_embeds/*npy\"),\n",
    "    key=lambda name: int(name.split('_')[-1].replace('.npy', ''))\n",
    ")"
   ]
  },
  {
   "cell_type": "code",
   "execution_count": 15,
   "id": "ff8c8048-3cdc-42ef-9057-f4802948f155",
   "metadata": {},
   "outputs": [],
   "source": [
    "merged_embeds = np.concatenate([np.load(fp) for fp in npy_files])"
   ]
  },
  {
   "cell_type": "code",
   "execution_count": 18,
   "id": "10a2f13a-fb9b-429b-b281-93112bf69f0c",
   "metadata": {},
   "outputs": [],
   "source": [
    "assert merged_embeds.shape[0] == df.shape[0]\n",
    "\n",
    "np.save(\"/home/letfd/lct2024_data/data/merged_clip_embeds.npy\", merged_embeds, allow_pickle=False)"
   ]
  },
  {
   "cell_type": "code",
   "execution_count": null,
   "id": "508a2ab8-46f9-483a-8816-0941a97049ca",
   "metadata": {},
   "outputs": [],
   "source": []
  },
  {
   "cell_type": "code",
   "execution_count": 21,
   "id": "f2687b47-7971-403f-a8b0-0f28a787901e",
   "metadata": {},
   "outputs": [
    {
     "data": {
      "text/plain": [
       "(107225, 512)"
      ]
     },
     "execution_count": 21,
     "metadata": {},
     "output_type": "execute_result"
    }
   ],
   "source": [
    "merged_embeds.shape"
   ]
  },
  {
   "cell_type": "code",
   "execution_count": 19,
   "id": "f677ad4f-2fc2-4d84-bf65-9e491cbe31c1",
   "metadata": {},
   "outputs": [],
   "source": [
    "# Import client library\n",
    "from qdrant_client import QdrantClient\n",
    "from qdrant_client.models import VectorParams, Distance\n",
    "\n",
    "client = QdrantClient(\"http://localhost:6333\")"
   ]
  },
  {
   "cell_type": "code",
   "execution_count": 22,
   "id": "c9eb73b1-f675-47a0-ba07-6fe49880f0d2",
   "metadata": {},
   "outputs": [
    {
     "name": "stderr",
     "output_type": "stream",
     "text": [
      "/tmp/ipykernel_2209/2659649393.py:1: DeprecationWarning: `recreate_collection` method is deprecated and will be removed in the future. Use `collection_exists` to check collection existence and `create_collection` instead.\n",
      "  client.recreate_collection(\n"
     ]
    },
    {
     "data": {
      "text/plain": [
       "True"
      ]
     },
     "execution_count": 22,
     "metadata": {},
     "output_type": "execute_result"
    }
   ],
   "source": [
    "client.recreate_collection(\n",
    "    collection_name=\"lct_clip\",\n",
    "    vectors_config=VectorParams(size=512, distance=Distance.COSINE),\n",
    ")"
   ]
  },
  {
   "cell_type": "code",
   "execution_count": 23,
   "id": "5d1f69ca-aafb-46bd-89f2-2c46d0cc73ff",
   "metadata": {},
   "outputs": [
    {
     "name": "stdout",
     "output_type": "stream",
     "text": [
      "CPU times: user 6.89 s, sys: 42 ms, total: 6.93 s\n",
      "Wall time: 6.93 s\n"
     ]
    }
   ],
   "source": [
    "%%time\n",
    "\n",
    "pl = iter([row.to_dict() for _, row in df.iterrows()])"
   ]
  },
  {
   "cell_type": "code",
   "execution_count": null,
   "id": "186e3251-56c7-4e1f-9c1d-9c1ec1598614",
   "metadata": {},
   "outputs": [],
   "source": []
  },
  {
   "cell_type": "code",
   "execution_count": 25,
   "id": "7f649875-f749-4310-b2ad-d992b8bfce7d",
   "metadata": {},
   "outputs": [
    {
     "name": "stdout",
     "output_type": "stream",
     "text": [
      "CPU times: user 19.8 s, sys: 3.56 s, total: 23.4 s\n",
      "Wall time: 34.1 s\n"
     ]
    }
   ],
   "source": [
    "%%time\n",
    "\n",
    "client.upload_collection(\n",
    "    collection_name=\"lct_clip\",\n",
    "    vectors=merged_embeds,\n",
    "    payload=pl,\n",
    "    ids=None,  # Vector ids will be assigned automatically\n",
    "    batch_size=512,  # How many vectors will be uploaded in a single request?\n",
    ")"
   ]
  },
  {
   "cell_type": "code",
   "execution_count": null,
   "id": "f7911a4d-2365-4939-938b-902cbc5c2bd7",
   "metadata": {},
   "outputs": [],
   "source": []
  },
  {
   "cell_type": "code",
   "execution_count": 31,
   "id": "f1321d02-5cc6-4cae-aeed-2d2f401c8102",
   "metadata": {},
   "outputs": [],
   "source": [
    "from qdrant_client import QdrantClient\n",
    "\n",
    "class NeuralSearcher:\n",
    "    def __init__(self, collection_name):\n",
    "        self.collection_name = collection_name\n",
    "        # Initialize encoder model\n",
    "        self.model = CLIPModel.from_pretrained(\"openai/clip-vit-base-patch32\")\n",
    "        self.processor = CLIPProcessor.from_pretrained(\"openai/clip-vit-base-patch32\")\n",
    "        # initialize Qdrant client\n",
    "        self.qdrant_client = QdrantClient(\"http://localhost:6333\")\n",
    "        \n",
    "    def search(self, text: str):\n",
    "        # Convert text query into vector\n",
    "        # vector = self.model.encode(text).tolist()\n",
    "        text_inp = self.processor(\n",
    "            text = [text], images=None, return_tensors=\"pt\"\n",
    "        )\n",
    "        text_emb = self.model.get_text_features(**text_inp).detach().numpy()[0]\n",
    "\n",
    "        # Use `vector` for search for closest vectors in the collection\n",
    "        search_result = self.qdrant_client.search(\n",
    "            collection_name=self.collection_name,\n",
    "            query_vector=text_emb,\n",
    "            query_filter=None,  # If you don't want any filters for now\n",
    "            limit=10,  # 5 the most closest results is enough\n",
    "        )\n",
    "        # `search_result` contains found vector ids with similarity scores along with the stored payload\n",
    "        # In this function you are interested in payload only\n",
    "        payloads = [hit.payload for hit in search_result]\n",
    "        return payloads"
   ]
  },
  {
   "cell_type": "code",
   "execution_count": 32,
   "id": "1e0b6126-e516-4a2a-83c0-7838555753d6",
   "metadata": {},
   "outputs": [],
   "source": [
    "from transformers import CLIPProcessor, CLIPModel\n",
    "\n",
    "model = CLIPModel.from_pretrained(\"openai/clip-vit-base-patch32\")\n",
    "processor = CLIPProcessor.from_pretrained(\"openai/clip-vit-base-patch32\")\n"
   ]
  },
  {
   "cell_type": "code",
   "execution_count": null,
   "id": "afe87bae-7716-4e34-9e1f-e1a6f471d54d",
   "metadata": {},
   "outputs": [],
   "source": []
  },
  {
   "cell_type": "code",
   "execution_count": null,
   "id": "90b0f27c-27cc-4d17-a88f-a7119e8ab8ad",
   "metadata": {},
   "outputs": [],
   "source": [
    "neural_searcher = NeuralSearcher(collection_name=\"lct_clip\")\n"
   ]
  },
  {
   "cell_type": "code",
   "execution_count": 58,
   "id": "be63c0e3-7206-4a01-b3d0-e9140698328b",
   "metadata": {},
   "outputs": [
    {
     "name": "stdout",
     "output_type": "stream",
     "text": [
      "CPU times: user 99.8 ms, sys: 6.84 ms, total: 107 ms\n",
      "Wall time: 37.7 ms\n"
     ]
    },
    {
     "data": {
      "text/plain": [
       "[{'description': None,\n",
       "  'downloaded': True,\n",
       "  'file_key': 'ee7641da421e848a137d7bef892d',\n",
       "  'link': 'https://cdn-st.rutubelist.ru/media/b6/c8/ee7641da421e848a137d7bef892d/fhd.mp4'},\n",
       " {'description': 'I think this must be my favourite view number one  Do you agree This was a hike to Store Trolltind a couple of weeks ago. 1788 meters above sea level.',\n",
       "  'downloaded': True,\n",
       "  'file_key': 'd6ae183d433093f0ccb23eb3ace9',\n",
       "  'link': 'https://cdn-st.rutubelist.ru/media/74/3d/d6ae183d433093f0ccb23eb3ace9/fhd.mp4'},\n",
       " {'description': 'Пик Бзерпи 2482 м\\n\\nНевероятная локация с панорамным видом на горы на все 360 градусов.',\n",
       "  'downloaded': True,\n",
       "  'file_key': '36a9f07848f3a0e2492cb470ed19',\n",
       "  'link': 'https://cdn-st.rutubelist.ru/media/14/71/36a9f07848f3a0e2492cb470ed19/fhd.mp4'},\n",
       " {'description': '#наспорте #тренировка #упражнения',\n",
       "  'downloaded': True,\n",
       "  'file_key': '9def330b4bd4924fbacc75753968',\n",
       "  'link': 'https://cdn-st.rutubelist.ru/media/e3/b2/9def330b4bd4924fbacc75753968/fhd.mp4'},\n",
       " {'description': '#путешествия #кудапоехать #туризм #море #горы #советыдляпутешествий #кэмпинг #глэмпинг #отель #вдохновение #влог',\n",
       "  'downloaded': True,\n",
       "  'file_key': '759f7d384577a068327689d4e972',\n",
       "  'link': 'https://cdn-st.rutubelist.ru/media/21/68/759f7d384577a068327689d4e972/fhd.mp4'},\n",
       " {'description': '#наспорте #тренировка #упражнения',\n",
       "  'downloaded': True,\n",
       "  'file_key': '927a177746238f9cceeaa5cfd99a',\n",
       "  'link': 'https://cdn-st.rutubelist.ru/media/fd/c3/927a177746238f9cceeaa5cfd99a/fhd.mp4'},\n",
       " {'description': '#спорт #наспорте #растяжка #фитнес #мотивация',\n",
       "  'downloaded': True,\n",
       "  'file_key': 'd411a4bc43f58edb68e8c4b39562',\n",
       "  'link': 'https://cdn-st.rutubelist.ru/media/ff/34/d411a4bc43f58edb68e8c4b39562/fhd.mp4'},\n",
       " {'description': '#спорт #наспорте #растяжка #фитнес #мотивация',\n",
       "  'downloaded': True,\n",
       "  'file_key': '459be6cc4dca91c5ccc77a78b88d',\n",
       "  'link': 'https://cdn-st.rutubelist.ru/media/02/ee/459be6cc4dca91c5ccc77a78b88d/fhd.mp4'},\n",
       " {'description': '#спорт #наспорте #растяжка #фитнес #мотивация  #тренировка #упражнения',\n",
       "  'downloaded': True,\n",
       "  'file_key': '38d230f94a0c816eac1b0f06ea06',\n",
       "  'link': 'https://cdn-st.rutubelist.ru/media/f6/68/38d230f94a0c816eac1b0f06ea06/fhd.mp4'},\n",
       " {'description': '#спорт #наспорте #растяжка #фитнес #мотивация',\n",
       "  'downloaded': True,\n",
       "  'file_key': 'd9b1a81e4da1a5bdb8f4f7acd986',\n",
       "  'link': 'https://cdn-st.rutubelist.ru/media/d5/64/d9b1a81e4da1a5bdb8f4f7acd986/fhd.mp4'}]"
      ]
     },
     "execution_count": 58,
     "metadata": {},
     "output_type": "execute_result"
    }
   ],
   "source": [
    "%%time\n",
    "\n",
    "neural_searcher.search(text='mountain climbing')"
   ]
  },
  {
   "cell_type": "code",
   "execution_count": null,
   "id": "7bb06420-34e6-46b7-b89b-bb220825a73e",
   "metadata": {},
   "outputs": [],
   "source": []
  },
  {
   "cell_type": "code",
   "execution_count": null,
   "id": "249d737d-74a6-4063-a283-f580c5692686",
   "metadata": {},
   "outputs": [],
   "source": []
  },
  {
   "cell_type": "code",
   "execution_count": 56,
   "id": "8dbd38ae-5309-4b3e-bcbc-8250ef1f95c7",
   "metadata": {},
   "outputs": [
    {
     "name": "stdout",
     "output_type": "stream",
     "text": [
      "CPU times: user 6.03 ms, sys: 408 µs, total: 6.44 ms\n",
      "Wall time: 38.3 ms\n"
     ]
    }
   ],
   "source": [
    "%%time\n",
    "\n",
    "import requests\n",
    "resp = requests.get(\"http://127.0.0.1:8000/search\", params={'query': 'home pets'})"
   ]
  },
  {
   "cell_type": "code",
   "execution_count": 57,
   "id": "3254a83f-b716-47d0-ba07-3ff575eb2c4d",
   "metadata": {},
   "outputs": [
    {
     "data": {
      "text/plain": [
       "[{'description': '#doglife #puppylife #puppygram #puppies #dogvideos #puppyoftheday #dogoftheday #dachshund',\n",
       "  'downloaded': True,\n",
       "  'file_key': '48d47d84418382e9d8601bbc71fa',\n",
       "  'link': 'https://cdn-st.rutubelist.ru/media/86/21/48d47d84418382e9d8601bbc71fa/fhd.mp4'},\n",
       " {'description': 'Emergency Family Meeting 🚨🙈 I think it went quite well… #whocanrelate \\nFeaturing my cousins @tomthechi',\n",
       "  'downloaded': True,\n",
       "  'file_key': '820037c240d2ad384e56316ec1b2',\n",
       "  'link': 'https://cdn-st.rutubelist.ru/media/9a/fc/820037c240d2ad384e56316ec1b2/fhd.mp4'},\n",
       " {'description': '#наука #научное #научпоп #учимсявместе #самообучение #репетитор #образование',\n",
       "  'downloaded': True,\n",
       "  'file_key': 'fd58952d4f0081f8031d12a3a147',\n",
       "  'link': 'https://cdn-st.rutubelist.ru/media/75/10/fd58952d4f0081f8031d12a3a147/fhd.mp4'},\n",
       " {'description': '#путешествия #journey #туризм #природа #животные #саванна #красивыеместа',\n",
       "  'downloaded': True,\n",
       "  'file_key': 'f89d65b74531aab80a63daaf1d74',\n",
       "  'link': 'https://cdn-st.rutubelist.ru/media/99/83/f89d65b74531aab80a63daaf1d74/fhd.mp4'},\n",
       " {'description': '😔',\n",
       "  'downloaded': True,\n",
       "  'file_key': '9d762e524f91b7a05cbe411c12ee',\n",
       "  'link': 'https://cdn-st.rutubelist.ru/media/d1/24/9d762e524f91b7a05cbe411c12ee/fhd.mp4'},\n",
       " {'description': '#красивыедевушки #азиатки',\n",
       "  'downloaded': True,\n",
       "  'file_key': '54b4eb084dfda65c1bb53a11d3c6',\n",
       "  'link': 'https://cdn-st.rutubelist.ru/media/94/c6/54b4eb084dfda65c1bb53a11d3c6/fhd.mp4'},\n",
       " {'description': 'Who can relate?',\n",
       "  'downloaded': True,\n",
       "  'file_key': '86e51f9442b0a20d86117d6778ed',\n",
       "  'link': 'https://cdn-st.rutubelist.ru/media/d7/81/86e51f9442b0a20d86117d6778ed/fhd.mp4'},\n",
       " {'description': 'Drum and based cat #music #copyrightfree #dnb #ncs',\n",
       "  'downloaded': True,\n",
       "  'file_key': 'fccd3cc84d058465daed7107d7a7',\n",
       "  'link': 'https://cdn-st.rutubelist.ru/media/a5/70/fccd3cc84d058465daed7107d7a7/fhd.mp4'},\n",
       " {'description': 'Ну… это же Моня, этим всё сказано😂\\n\\n#чихуахуа #чих #чишкамалышка #чихуахуаекатеринбург #шпиц #тойтерьер #собачка #девочкитакиедевочки',\n",
       "  'downloaded': True,\n",
       "  'file_key': '1dc3b5444379a7e03f1d82763d13',\n",
       "  'link': 'https://cdn-st.rutubelist.ru/media/c4/e9/1dc3b5444379a7e03f1d82763d13/fhd.mp4'},\n",
       " {'description': '#путешествия #кудапоехать #туризм #море #горы #советыдляпутешествий #кэмпинг #глэмпинг #отель #вдохновение #влог',\n",
       "  'downloaded': True,\n",
       "  'file_key': '573412904e70827cb76cdb426d29',\n",
       "  'link': 'https://cdn-st.rutubelist.ru/media/97/86/573412904e70827cb76cdb426d29/fhd.mp4'}]"
      ]
     },
     "execution_count": 57,
     "metadata": {},
     "output_type": "execute_result"
    }
   ],
   "source": [
    "resp.json()"
   ]
  },
  {
   "cell_type": "code",
   "execution_count": null,
   "id": "239a92aa-6b78-4abd-ab0c-43a939350c2a",
   "metadata": {},
   "outputs": [],
   "source": []
  },
  {
   "cell_type": "code",
   "execution_count": null,
   "id": "c93e4e8e-9479-4074-ba85-c1354cb197fb",
   "metadata": {},
   "outputs": [],
   "source": []
  }
 ],
 "metadata": {
  "kernelspec": {
   "display_name": "Python 3 (ipykernel)",
   "language": "python",
   "name": "python3"
  },
  "language_info": {
   "codemirror_mode": {
    "name": "ipython",
    "version": 3
   },
   "file_extension": ".py",
   "mimetype": "text/x-python",
   "name": "python",
   "nbconvert_exporter": "python",
   "pygments_lexer": "ipython3",
   "version": "3.8.10"
  }
 },
 "nbformat": 4,
 "nbformat_minor": 5
}
