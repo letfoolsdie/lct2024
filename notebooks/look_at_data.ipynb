{
 "cells": [
  {
   "cell_type": "code",
   "execution_count": 1,
   "id": "7d9703c6-93cb-41d5-9f6a-4886237f2203",
   "metadata": {},
   "outputs": [],
   "source": [
    "import pandas as pd\n",
    "import numpy as np"
   ]
  },
  {
   "cell_type": "code",
   "execution_count": 2,
   "id": "49adc570-0aa2-44da-960b-3d99e21f089a",
   "metadata": {},
   "outputs": [
    {
     "name": "stdout",
     "output_type": "stream",
     "text": [
      "(400000, 2)\n"
     ]
    },
    {
     "data": {
      "text/html": [
       "<div>\n",
       "<style scoped>\n",
       "    .dataframe tbody tr th:only-of-type {\n",
       "        vertical-align: middle;\n",
       "    }\n",
       "\n",
       "    .dataframe tbody tr th {\n",
       "        vertical-align: top;\n",
       "    }\n",
       "\n",
       "    .dataframe thead th {\n",
       "        text-align: right;\n",
       "    }\n",
       "</style>\n",
       "<table border=\"1\" class=\"dataframe\">\n",
       "  <thead>\n",
       "    <tr style=\"text-align: right;\">\n",
       "      <th></th>\n",
       "      <th>link</th>\n",
       "      <th>description</th>\n",
       "    </tr>\n",
       "  </thead>\n",
       "  <tbody>\n",
       "    <tr>\n",
       "      <th>0</th>\n",
       "      <td>https://cdn-st.rutubelist.ru/media/b0/e9/ef285...</td>\n",
       "      <td>#нарезкистримов , #dota2 , #cs2 , #fifa23 , #m...</td>\n",
       "    </tr>\n",
       "    <tr>\n",
       "      <th>1</th>\n",
       "      <td>https://cdn-st.rutubelist.ru/media/39/6c/b31bc...</td>\n",
       "      <td>🤫НЕ ВВОДИ ЭТУ КОМАНДУ В РОБЛОКС ! #shorts #rob...</td>\n",
       "    </tr>\n",
       "  </tbody>\n",
       "</table>\n",
       "</div>"
      ],
      "text/plain": [
       "                                                link  \\\n",
       "0  https://cdn-st.rutubelist.ru/media/b0/e9/ef285...   \n",
       "1  https://cdn-st.rutubelist.ru/media/39/6c/b31bc...   \n",
       "\n",
       "                                         description  \n",
       "0  #нарезкистримов , #dota2 , #cs2 , #fifa23 , #m...  \n",
       "1  🤫НЕ ВВОДИ ЭТУ КОМАНДУ В РОБЛОКС ! #shorts #rob...  "
      ]
     },
     "execution_count": 2,
     "metadata": {},
     "output_type": "execute_result"
    }
   ],
   "source": [
    "data = pd.read_csv(\"../data/yappy_hackaton_2024_400k.csv\")\n",
    "print(data.shape)\n",
    "data.head(2)"
   ]
  },
  {
   "cell_type": "code",
   "execution_count": 4,
   "id": "b641e531-804e-4787-9a8c-2265d1d7a811",
   "metadata": {},
   "outputs": [
    {
     "data": {
      "text/plain": [
       "#образ #lookbook #показ #неделямоды #капсула #ошибкивстиле #селебрити #интервью #перевоплощения #обувь #кроссовки                     14040\n",
       "#путешествия #кудапоехать #туризм #море #горы #советыдляпутешествий #кэмпинг #глэмпинг #отель #вдохновение #влог                      12184\n",
       "#лайфхаки , #эксперименты , #roblox , #игрушки , #diy , #танцы                                                                        11915\n",
       "#тачки #машины #обзоравто                                                                                                             11771\n",
       "#boobs , #bigass , #girls , #pussy , #еда , #готовка , #рецепт , #кукинг , #мистика , #страшилка , #horror , #бизнес , #инвестиции    11643\n",
       "#егэ2023 , #огэ2023 , #наука , #егэ , #огэ , #научпоп                                                                                 10440\n",
       "#киноновинки , #киноафиша , #кино  , #фильмы , #сериалы , #чтопосмотреть , #трейлер , #трейлеры                                       10266\n",
       "#спорт #наспорте #растяжка #фитнес #мотивация                                                                                          9843\n",
       "#нарезкистримов , #dota2 , #cs2 , #fifa23 , #minecraft , #майнкрафт , #геншин , #genshin                                               7692\n",
       "#мульт , #мультики , #мультик , #мультфильм , #мультфильмы , #симпсоны , #грифины , #трикота , #дисней                                 7630\n",
       "#уходзакожей #уходзасобой #бьютирутина #бьюти                                                                                          6753\n",
       "#гаджеты #технологии #лайфхаки #распаковка                                                                                             6635\n",
       "#boobs , #красивыедевушки , #ass                                                                                                       3784\n",
       "#уходзакожей #уходзасобой #бьютирутина #бьюти #ноготочки #маникюр #прическа #укладка #уход #бьютирутина                                2055\n",
       "#красивыедевушки #грудь #boobs #попа #ass #bigbooty                                                                                    1904\n",
       "#спорт #наспорте #растяжка #фитнес #мотивация\\n#наспорте #тренировка #упражнения                                                       1790\n",
       "#уходзакожей #уходзасобой #бьютирутина #бьюти\\n#бьюти #ноготочки #маникюр #прическа #укладка #уход #бьютирутина                        1769\n",
       "#красивыедевушки #грудь #boobs                                                                                                         1577\n",
       "#наспорте #тренировка #упражнения                                                                                                      1569\n",
       "#спорт #наспорте #растяжка #фитнес #мотивация #наспорте #тренировка #упражнения                                                        1445\n",
       "Name: description, dtype: int64"
      ]
     },
     "execution_count": 4,
     "metadata": {},
     "output_type": "execute_result"
    }
   ],
   "source": [
    "data.description.value_counts()[:20]"
   ]
  },
  {
   "cell_type": "code",
   "execution_count": 5,
   "id": "980314b4-839b-4157-b2f9-8733517c98e0",
   "metadata": {},
   "outputs": [
    {
     "data": {
      "text/plain": [
       "(91075,)"
      ]
     },
     "execution_count": 5,
     "metadata": {},
     "output_type": "execute_result"
    }
   ],
   "source": [
    "data.description.unique().shape"
   ]
  },
  {
   "cell_type": "code",
   "execution_count": 7,
   "id": "8093d7f1-0fe6-4fc1-936a-89a5512d42c0",
   "metadata": {},
   "outputs": [],
   "source": [
    "def process_description(text):\n",
    "    return [t for t in text.split() if t.startswith('#')]\n",
    "\n",
    "data['tags'] = data.description.fillna('').apply(process_description)"
   ]
  },
  {
   "cell_type": "code",
   "execution_count": null,
   "id": "56fbc41f-c022-46c8-93be-901c56ca63bd",
   "metadata": {},
   "outputs": [],
   "source": []
  },
  {
   "cell_type": "code",
   "execution_count": 8,
   "id": "59250714-895b-4e46-b43a-31604adc9efb",
   "metadata": {},
   "outputs": [
    {
     "data": {
      "text/html": [
       "<div>\n",
       "<style scoped>\n",
       "    .dataframe tbody tr th:only-of-type {\n",
       "        vertical-align: middle;\n",
       "    }\n",
       "\n",
       "    .dataframe tbody tr th {\n",
       "        vertical-align: top;\n",
       "    }\n",
       "\n",
       "    .dataframe thead th {\n",
       "        text-align: right;\n",
       "    }\n",
       "</style>\n",
       "<table border=\"1\" class=\"dataframe\">\n",
       "  <thead>\n",
       "    <tr style=\"text-align: right;\">\n",
       "      <th></th>\n",
       "      <th>link</th>\n",
       "      <th>description</th>\n",
       "      <th>tags</th>\n",
       "    </tr>\n",
       "  </thead>\n",
       "  <tbody>\n",
       "    <tr>\n",
       "      <th>0</th>\n",
       "      <td>https://cdn-st.rutubelist.ru/media/b0/e9/ef285...</td>\n",
       "      <td>#нарезкистримов , #dota2 , #cs2 , #fifa23 , #m...</td>\n",
       "      <td>[#нарезкистримов, #dota2, #cs2, #fifa23, #mine...</td>\n",
       "    </tr>\n",
       "    <tr>\n",
       "      <th>1</th>\n",
       "      <td>https://cdn-st.rutubelist.ru/media/39/6c/b31bc...</td>\n",
       "      <td>🤫НЕ ВВОДИ ЭТУ КОМАНДУ В РОБЛОКС ! #shorts #rob...</td>\n",
       "      <td>[#shorts, #roblox, #роблокс]</td>\n",
       "    </tr>\n",
       "    <tr>\n",
       "      <th>2</th>\n",
       "      <td>https://cdn-st.rutubelist.ru/media/e9/e0/b47a9...</td>\n",
       "      <td>#boobs , #красивыедевушки , #ass</td>\n",
       "      <td>[#boobs, #красивыедевушки, #ass]</td>\n",
       "    </tr>\n",
       "    <tr>\n",
       "      <th>3</th>\n",
       "      <td>https://cdn-st.rutubelist.ru/media/87/43/b11df...</td>\n",
       "      <td>NaN</td>\n",
       "      <td>[]</td>\n",
       "    </tr>\n",
       "    <tr>\n",
       "      <th>4</th>\n",
       "      <td>https://cdn-st.rutubelist.ru/media/d1/e7/642dc...</td>\n",
       "      <td>NaN</td>\n",
       "      <td>[]</td>\n",
       "    </tr>\n",
       "  </tbody>\n",
       "</table>\n",
       "</div>"
      ],
      "text/plain": [
       "                                                link  \\\n",
       "0  https://cdn-st.rutubelist.ru/media/b0/e9/ef285...   \n",
       "1  https://cdn-st.rutubelist.ru/media/39/6c/b31bc...   \n",
       "2  https://cdn-st.rutubelist.ru/media/e9/e0/b47a9...   \n",
       "3  https://cdn-st.rutubelist.ru/media/87/43/b11df...   \n",
       "4  https://cdn-st.rutubelist.ru/media/d1/e7/642dc...   \n",
       "\n",
       "                                         description  \\\n",
       "0  #нарезкистримов , #dota2 , #cs2 , #fifa23 , #m...   \n",
       "1  🤫НЕ ВВОДИ ЭТУ КОМАНДУ В РОБЛОКС ! #shorts #rob...   \n",
       "2                   #boobs , #красивыедевушки , #ass   \n",
       "3                                                NaN   \n",
       "4                                                NaN   \n",
       "\n",
       "                                                tags  \n",
       "0  [#нарезкистримов, #dota2, #cs2, #fifa23, #mine...  \n",
       "1                       [#shorts, #roblox, #роблокс]  \n",
       "2                   [#boobs, #красивыедевушки, #ass]  \n",
       "3                                                 []  \n",
       "4                                                 []  "
      ]
     },
     "execution_count": 8,
     "metadata": {},
     "output_type": "execute_result"
    }
   ],
   "source": [
    "data[:5]"
   ]
  },
  {
   "cell_type": "code",
   "execution_count": 10,
   "id": "7961a2e1-1b15-44e4-a6da-652d73129397",
   "metadata": {},
   "outputs": [
    {
     "data": {
      "text/plain": [
       "'https://cdn-st.rutubelist.ru/media/e9/e0/b47a9df14a5e97942715e5e705c0/fhd.mp4'"
      ]
     },
     "execution_count": 10,
     "metadata": {},
     "output_type": "execute_result"
    }
   ],
   "source": [
    "data.loc[2].link"
   ]
  },
  {
   "cell_type": "code",
   "execution_count": 16,
   "id": "aa2089c8-8449-41f6-92d7-e17a1d1354c2",
   "metadata": {},
   "outputs": [
    {
     "data": {
      "text/plain": [
       "#boobs              36802\n",
       "#красивыедевушки    36400\n",
       "#наспорте           31030\n",
       "#бьютирутина        28271\n",
       "#спорт              27647\n",
       "#бьюти              25538\n",
       "#уходзасобой        20989\n",
       "#лайфхаки           20955\n",
       "#кино               20905\n",
       "#грудь              20856\n",
       "#образ              19212\n",
       "#путешествия        18692\n",
       "#ass                18390\n",
       "#туризм             17546\n",
       "#тачки              16796\n",
       "#растяжка           15506\n",
       "#показ              15483\n",
       "#мотивация          15421\n",
       "#танцы              15414\n",
       "#обувь              15149\n",
       "#фитнес             14734\n",
       "#неделямоды         14608\n",
       "#кроссовки          14598\n",
       "#интервью           14523\n",
       "#влог               14470\n",
       "#diy                14355\n",
       "#ошибкивстиле       14263\n",
       "#lookbook           14234\n",
       "#капсула            14231\n",
       "#селебрити          14141\n",
       "#перевоплощения     14137\n",
       "#попа               13953\n",
       "#наука              13948\n",
       "#roblox             13933\n",
       "#чтопосмотреть      13859\n",
       "#научпоп            13827\n",
       "#игрушки            13685\n",
       "#красота            13336\n",
       "#готовка            13247\n",
       "#кукинг             13216\n",
       "#инвестиции         13061\n",
       "#горы               13012\n",
       "#море               13000\n",
       "#еда                12981\n",
       "#мистика            12879\n",
       "#вдохновение        12846\n",
       "#страшилка          12803\n",
       "#эксперименты       12761\n",
       "#girls              12759\n",
       "#рецепт             12753\n",
       "Name: tags, dtype: int64"
      ]
     },
     "execution_count": 16,
     "metadata": {},
     "output_type": "execute_result"
    }
   ],
   "source": [
    "data.tags.explode().value_counts()[:50]"
   ]
  },
  {
   "cell_type": "code",
   "execution_count": 25,
   "id": "d962088a-6cc0-4f9b-bced-74f666ab5489",
   "metadata": {},
   "outputs": [
    {
     "name": "stdout",
     "output_type": "stream",
     "text": [
      "128226\n",
      "https://cdn-st.rutubelist.ru/media/b0/e8/dbf23c7a410cb348b032a6f3cd05/fhd.mp4\n",
      "['#спорт', '#наспорте', '#растяжка', '#фитнес', '#мотивация']\n",
      "---------------------------------------------\n",
      "113957\n",
      "https://cdn-st.rutubelist.ru/media/f7/f8/023a9375475882749685416754af/fhd.mp4\n",
      "['#баскетбол', '#спорт', '#abl', '#basketball', '#sport']\n",
      "---------------------------------------------\n",
      "189772\n",
      "https://cdn-st.rutubelist.ru/media/6c/cb/f5f8e88b46dc9101131e8dcb7393/fhd.mp4\n",
      "['#авто', '#auto', '#vehicle', '#обзор', '#обзортачки', '#девушкииавто']\n",
      "---------------------------------------------\n",
      "35570\n",
      "https://cdn-st.rutubelist.ru/media/ee/b3/00642ba6410ea9aa06a6baa5de8d/fhd.mp4\n",
      "['#forkids', '#детскийконтент', '#длядетей#танцы#рукоделие']\n",
      "---------------------------------------------\n",
      "169566\n",
      "https://cdn-st.rutubelist.ru/media/26/63/00af44cf4533b2cb63d998d3c307/fhd.mp4\n",
      "['#мульт', '#мультики', '#мультик', '#мультфильм', '#мультфильмы', '#симпсоны', '#грифины', '#трикота', '#дисней']\n",
      "---------------------------------------------\n",
      "149400\n",
      "https://cdn-st.rutubelist.ru/media/22/0d/5ca24cd14b0bb8df4dd280e54a48/fhd.mp4\n",
      "[]\n",
      "---------------------------------------------\n",
      "305403\n",
      "https://cdn-st.rutubelist.ru/media/35/f8/808a00ad4f5296eb046413524f77/fhd.mp4\n",
      "['#красивыедевушки', '#комедия']\n",
      "---------------------------------------------\n",
      "253692\n",
      "https://cdn-st.rutubelist.ru/media/1a/d5/8c1d273e4c26ace98c2d9d27965a/fhd.mp4\n",
      "['#красивыедевушки']\n",
      "---------------------------------------------\n",
      "342563\n",
      "https://cdn-st.rutubelist.ru/media/84/01/952518c54114bd85d376f5d05cc2/fhd.mp4\n",
      "['#тачки', '#машины', '#обзоравто']\n",
      "---------------------------------------------\n",
      "209960\n",
      "https://cdn-st.rutubelist.ru/media/c0/d7/0ca6349841ce8da0811a9754cb3b/fhd.mp4\n",
      "['#игры', '#видеоигры', '#games', '#videogames', '#letsplay', '#летсплей']\n",
      "---------------------------------------------\n"
     ]
    }
   ],
   "source": [
    "# [print(i) for i in data.sample(10).tolist()]\n",
    "sample = data.sample(10)\n",
    "for idx, row in sample.iterrows():\n",
    "    print(idx)\n",
    "    print(row['link'])\n",
    "    print(row['tags'])\n",
    "    print('-' * 45)"
   ]
  },
  {
   "cell_type": "code",
   "execution_count": 26,
   "id": "b716494f-1eaf-4cc9-a02f-53b59237d775",
   "metadata": {},
   "outputs": [],
   "source": [
    "# https://cdn-st.rutubelist.ru/media/65/48/0751d184433aae17b3a4f06ec15e/fhd.mp4\n",
    "# девушка бежит по полю\n",
    "\n",
    "# https://cdn-st.rutubelist.ru/media/9b/96/5cff3a6f42908c8ef37a2eb205eb/fhd.mp4\n",
    "# катание на сноуборде\n",
    "\n",
    "# https://cdn-st.rutubelist.ru/media/aa/b0/b731a8fa49fa85d41581a73537b0/fhd.mp4\n",
    "# показ мод\n",
    "\n",
    "# https://cdn-st.rutubelist.ru/media/f4/0a/ca03c19e48bb84c91513d2c30b9e/fhd.mp4\n",
    "# море, песок\n",
    "\n",
    "# https://cdn-st.rutubelist.ru/media/ee/1d/a1b4398045a79fbba1e055b4ce41/fhd.mp4\n",
    "# виды с дороги\n",
    "\n",
    "# https://cdn-st.rutubelist.ru/media/89/7d/b1b50f2d4d619d203d823855bb8c/fhd.mp4\n",
    "# гаджет, замок на холодильник\n",
    "\n",
    "# https://cdn-st.rutubelist.ru/media/22/0d/5ca24cd14b0bb8df4dd280e54a48/fhd.mp4\n",
    "# гаджет, кофемолка\n",
    "\n",
    "# https://cdn-st.rutubelist.ru/media/b0/e8/dbf23c7a410cb348b032a6f3cd05/fhd.mp4\n",
    "# девушка едет на подъемнике"
   ]
  },
  {
   "cell_type": "code",
   "execution_count": null,
   "id": "39582e84-1538-4c60-9e41-9dffe8e46ebc",
   "metadata": {},
   "outputs": [],
   "source": []
  }
 ],
 "metadata": {
  "kernelspec": {
   "display_name": "Python 3 (ipykernel)",
   "language": "python",
   "name": "python3"
  },
  "language_info": {
   "codemirror_mode": {
    "name": "ipython",
    "version": 3
   },
   "file_extension": ".py",
   "mimetype": "text/x-python",
   "name": "python",
   "nbconvert_exporter": "python",
   "pygments_lexer": "ipython3",
   "version": "3.8.10"
  }
 },
 "nbformat": 4,
 "nbformat_minor": 5
}
