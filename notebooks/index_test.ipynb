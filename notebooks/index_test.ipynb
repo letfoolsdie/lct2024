{
 "cells": [
  {
   "cell_type": "code",
   "execution_count": 9,
   "id": "49da0697-635a-4c76-9a4d-5619a6b40231",
   "metadata": {},
   "outputs": [],
   "source": [
    "from fastapi import FastAPI\n",
    "from fastapi.middleware.cors import CORSMiddleware\n",
    "from fastapi.staticfiles import StaticFiles\n",
    "from transformers import FSMTForConditionalGeneration, FSMTTokenizer\n",
    "import sys\n",
    "from qdrant_client.models import PointStruct\n",
    "sys.path.append(\"../src\")\n",
    "\n",
    "import engines\n",
    "import urllib.request\n",
    "import cv2\n",
    "import numpy as np"
   ]
  },
  {
   "cell_type": "code",
   "execution_count": 10,
   "id": "81225792-95a5-478e-9467-055f94f1f565",
   "metadata": {},
   "outputs": [],
   "source": [
    "clip_engine = engines.CLIPSearcher(\n",
    "    collection_name=\"lct_clip\"\n",
    ")"
   ]
  },
  {
   "cell_type": "code",
   "execution_count": 7,
   "id": "8a9ee441-0207-4ca4-b758-544321dccb09",
   "metadata": {},
   "outputs": [
    {
     "data": {
      "text/plain": [
       "'completed'"
      ]
     },
     "execution_count": 7,
     "metadata": {},
     "output_type": "execute_result"
    }
   ],
   "source": [
    "def get_first_frame(name: str):\n",
    "    cap = cv2.VideoCapture(name)\n",
    "    _, frame = cap.read()\n",
    "    frame = cv2.cvtColor(frame, cv2.COLOR_RGB2BGR)\n",
    "    return frame\n",
    "\n",
    "url = \"https://cdn-st.rutubelist.ru/media/44/b0/eb375d264574b2b2f7392dbaaac6/fhd.mp4\"\n",
    "disc = \"dfdf\"\n",
    "\n",
    "tmp_name = str(hash(url))\n",
    "urllib.request.urlretrieve(url, tmp_name + \".mp4\")\n",
    "frame = get_first_frame(tmp_name + \".mp4\")\n",
    "clip_engine.add(frame, discription=disc, url=url)"
   ]
  },
  {
   "cell_type": "code",
   "execution_count": 23,
   "id": "0ce7e64d-263b-4e2d-9eb0-c6fd51def210",
   "metadata": {},
   "outputs": [],
   "source": [
    "# frame = get_first_frame(tmp_name + \".mp4\")"
   ]
  },
  {
   "cell_type": "code",
   "execution_count": 28,
   "id": "33e87956-c7be-4681-bf5a-ccad70ecea96",
   "metadata": {},
   "outputs": [],
   "source": [
    "# inputs = clip_engine.processor(images=[frame], return_tensors=\"pt\")\n",
    "# image_feature = clip_engine.model.get_image_features(**inputs).detach().numpy()[0]"
   ]
  },
  {
   "cell_type": "code",
   "execution_count": 11,
   "id": "71b4b8bc-cb4b-4011-bf08-6383c64fe5eb",
   "metadata": {},
   "outputs": [
    {
     "name": "stderr",
     "output_type": "stream",
     "text": [
      "/tmp/ipykernel_2010031/2713003631.py:2: DeprecationWarning: `recreate_collection` method is deprecated and will be removed in the future. Use `collection_exists` to check collection existence and `create_collection` instead.\n",
      "  clip_engine.qdrant_client.recreate_collection(\n"
     ]
    },
    {
     "data": {
      "text/plain": [
       "True"
      ]
     },
     "execution_count": 11,
     "metadata": {},
     "output_type": "execute_result"
    }
   ],
   "source": [
    "from qdrant_client.models import Distance, VectorParams\n",
    "clip_engine.qdrant_client.recreate_collection(\n",
    "    collection_name=clip_engine.collection_name,\n",
    "    vectors_config=VectorParams(size=512, distance=Distance.COSINE),\n",
    ")"
   ]
  },
  {
   "cell_type": "code",
   "execution_count": 41,
   "id": "c8a58136-1601-47bb-91ba-414b56a98394",
   "metadata": {},
   "outputs": [],
   "source": []
  },
  {
   "cell_type": "code",
   "execution_count": 44,
   "id": "4e0540d0-6237-435d-877b-b5113b456b30",
   "metadata": {},
   "outputs": [
    {
     "data": {
      "text/plain": [
       "'completed'"
      ]
     },
     "execution_count": 44,
     "metadata": {},
     "output_type": "execute_result"
    }
   ],
   "source": []
  },
  {
   "cell_type": "code",
   "execution_count": 45,
   "id": "172f638c-eb9a-4af5-8723-ba84152a2f59",
   "metadata": {},
   "outputs": [
    {
     "data": {
      "text/plain": [
       "UpdateResult(operation_id=1, status=<UpdateStatus.COMPLETED: 'completed'>)"
      ]
     },
     "execution_count": 45,
     "metadata": {},
     "output_type": "execute_result"
    }
   ],
   "source": [
    "u"
   ]
  },
  {
   "cell_type": "code",
   "execution_count": 8,
   "id": "708ca1da-b6c4-47bc-a97e-4af7a48d0a26",
   "metadata": {},
   "outputs": [
    {
     "name": "stdout",
     "output_type": "stream",
     "text": [
      "Collecting sacremoses\n",
      "  Downloading sacremoses-0.1.1-py3-none-any.whl.metadata (8.3 kB)\n",
      "Requirement already satisfied: regex in /home/timur.abdrashitov/python_env/lib/python3.10/site-packages (from sacremoses) (2024.5.15)\n",
      "Requirement already satisfied: click in /home/timur.abdrashitov/python_env/lib/python3.10/site-packages (from sacremoses) (8.1.7)\n",
      "Requirement already satisfied: joblib in /home/timur.abdrashitov/python_env/lib/python3.10/site-packages (from sacremoses) (1.4.2)\n",
      "Requirement already satisfied: tqdm in /home/timur.abdrashitov/python_env/lib/python3.10/site-packages (from sacremoses) (4.66.2)\n",
      "Downloading sacremoses-0.1.1-py3-none-any.whl (897 kB)\n",
      "\u001b[2K   \u001b[90m━━━━━━━━━━━━━━━━━━━━━━━━━━━━━━━━━━━━━━━━\u001b[0m \u001b[32m897.5/897.5 kB\u001b[0m \u001b[31m6.4 MB/s\u001b[0m eta \u001b[36m0:00:00\u001b[0ma \u001b[36m0:00:01\u001b[0m\n",
      "\u001b[?25hInstalling collected packages: sacremoses\n",
      "Successfully installed sacremoses-0.1.1\n"
     ]
    }
   ],
   "source": [
    "!pip install sacremoses"
   ]
  },
  {
   "cell_type": "code",
   "execution_count": null,
   "id": "39b666a7-96c5-4f73-abd5-b211f20bf69e",
   "metadata": {},
   "outputs": [],
   "source": []
  }
 ],
 "metadata": {
  "kernelspec": {
   "display_name": "Python 3 (ipykernel)",
   "language": "python",
   "name": "python3"
  },
  "language_info": {
   "codemirror_mode": {
    "name": "ipython",
    "version": 3
   },
   "file_extension": ".py",
   "mimetype": "text/x-python",
   "name": "python",
   "nbconvert_exporter": "python",
   "pygments_lexer": "ipython3",
   "version": "3.10.12"
  }
 },
 "nbformat": 4,
 "nbformat_minor": 5
}
