{
 "cells": [
  {
   "cell_type": "code",
   "execution_count": 1,
   "id": "be01c201-fa3a-4042-99b5-5ca2187b37b3",
   "metadata": {},
   "outputs": [],
   "source": [
    "import glob\n",
    "import time\n",
    "\n",
    "import pandas as pd\n",
    "import numpy as np\n",
    "from matplotlib import pyplot as plt\n",
    "import tqdm\n",
    "%matplotlib inline"
   ]
  },
  {
   "cell_type": "code",
   "execution_count": 2,
   "id": "2d094191-9876-4e09-b261-fb0ed83e9644",
   "metadata": {},
   "outputs": [
    {
     "name": "stdout",
     "output_type": "stream",
     "text": [
      "Number of frames extracted: 1\n"
     ]
    }
   ],
   "source": [
    "import cv2\n",
    "\n",
    "def video_to_images(video_path, max_frames=1):\n",
    "    # Load the video\n",
    "    cap = cv2.VideoCapture(video_path)\n",
    "    \n",
    "    # Check if video opened successfully\n",
    "    if not cap.isOpened():\n",
    "        print(\"Error: Could not open video.\")\n",
    "        return []\n",
    "    \n",
    "    images = []\n",
    "    frame_cnt = 0\n",
    "    \n",
    "    # Read until video is completed\n",
    "    while cap.isOpened():\n",
    "        # Capture frame-by-frame\n",
    "        ret, frame = cap.read()\n",
    "        \n",
    "        if ret:\n",
    "            # If frame is read correctly, append to list\n",
    "            images.append(frame)\n",
    "        else:\n",
    "            # If no frame is read, break the loop\n",
    "            break\n",
    "        \n",
    "        frame_cnt += 1\n",
    "        if frame_cnt >= max_frames:\n",
    "            break\n",
    "    \n",
    "    # Release the video capture object\n",
    "    cap.release()\n",
    "    \n",
    "    return [i[:,:,[2,1,0]] for i in images]\n",
    "\n",
    "# Example usage\n",
    "video_path = '../data/videos/5cff3a6f42908c8ef37a2eb205eb.mp4'\n",
    "images = video_to_images(video_path)\n",
    "print(f\"Number of frames extracted: {len(images)}\")\n"
   ]
  },
  {
   "cell_type": "code",
   "execution_count": 3,
   "id": "31ab221c-de38-468f-bb30-9d3237f51f03",
   "metadata": {},
   "outputs": [
    {
     "name": "stdout",
     "output_type": "stream",
     "text": [
      "CPU times: user 279 ms, sys: 48.6 ms, total: 327 ms\n",
      "Wall time: 325 ms\n"
     ]
    }
   ],
   "source": [
    "%%time\n",
    "\n",
    "mp4_files = glob.glob(\"../data/videos/*mp4\")"
   ]
  },
  {
   "cell_type": "code",
   "execution_count": 4,
   "id": "cdb78b98-a1ef-4812-b679-40f783c6d510",
   "metadata": {},
   "outputs": [
    {
     "data": {
      "text/plain": [
       "['5d0913024de8a68fe70750381a6a',\n",
       " '6b1ecd2d4b51a182e897aeb8f426',\n",
       " 'c6bc6bed49a3975eccca5b256822']"
      ]
     },
     "execution_count": 4,
     "metadata": {},
     "output_type": "execute_result"
    }
   ],
   "source": [
    "mp4_names = set([f.split('/')[-1].replace('.mp4', '') for f in mp4_files])\n",
    "list(mp4_names)[:3]"
   ]
  },
  {
   "cell_type": "code",
   "execution_count": 5,
   "id": "4a20122a-5926-4db4-9280-ec40e7cb2bb5",
   "metadata": {},
   "outputs": [
    {
     "name": "stdout",
     "output_type": "stream",
     "text": [
      "(400000, 4)\n"
     ]
    },
    {
     "data": {
      "text/html": [
       "<div>\n",
       "<style scoped>\n",
       "    .dataframe tbody tr th:only-of-type {\n",
       "        vertical-align: middle;\n",
       "    }\n",
       "\n",
       "    .dataframe tbody tr th {\n",
       "        vertical-align: top;\n",
       "    }\n",
       "\n",
       "    .dataframe thead th {\n",
       "        text-align: right;\n",
       "    }\n",
       "</style>\n",
       "<table border=\"1\" class=\"dataframe\">\n",
       "  <thead>\n",
       "    <tr style=\"text-align: right;\">\n",
       "      <th></th>\n",
       "      <th>link</th>\n",
       "      <th>description</th>\n",
       "      <th>file_key</th>\n",
       "      <th>downloaded</th>\n",
       "    </tr>\n",
       "  </thead>\n",
       "  <tbody>\n",
       "    <tr>\n",
       "      <th>0</th>\n",
       "      <td>https://cdn-st.rutubelist.ru/media/b0/e9/ef285...</td>\n",
       "      <td>#нарезкистримов , #dota2 , #cs2 , #fifa23 , #m...</td>\n",
       "      <td>ef285e0241139fc611318ed33071</td>\n",
       "      <td>False</td>\n",
       "    </tr>\n",
       "    <tr>\n",
       "      <th>1</th>\n",
       "      <td>https://cdn-st.rutubelist.ru/media/39/6c/b31bc...</td>\n",
       "      <td>🤫НЕ ВВОДИ ЭТУ КОМАНДУ В РОБЛОКС ! #shorts #rob...</td>\n",
       "      <td>b31bc6864bef9d8a96814f1822ca</td>\n",
       "      <td>False</td>\n",
       "    </tr>\n",
       "  </tbody>\n",
       "</table>\n",
       "</div>"
      ],
      "text/plain": [
       "                                                link  \\\n",
       "0  https://cdn-st.rutubelist.ru/media/b0/e9/ef285...   \n",
       "1  https://cdn-st.rutubelist.ru/media/39/6c/b31bc...   \n",
       "\n",
       "                                         description  \\\n",
       "0  #нарезкистримов , #dota2 , #cs2 , #fifa23 , #m...   \n",
       "1  🤫НЕ ВВОДИ ЭТУ КОМАНДУ В РОБЛОКС ! #shorts #rob...   \n",
       "\n",
       "                       file_key  downloaded  \n",
       "0  ef285e0241139fc611318ed33071       False  \n",
       "1  b31bc6864bef9d8a96814f1822ca       False  "
      ]
     },
     "execution_count": 5,
     "metadata": {},
     "output_type": "execute_result"
    }
   ],
   "source": [
    "data = pd.read_csv(\"../data/yappy_hackaton_2024_400k.csv\")\n",
    "data['file_key'] = data.link.apply(lambda x: x.split('/')[-2])\n",
    "data['downloaded'] = data.file_key.apply(lambda x: x in mp4_names)\n",
    "print(data.shape)\n",
    "data.head(2)"
   ]
  },
  {
   "cell_type": "code",
   "execution_count": 6,
   "id": "bca8fca1-19d2-4939-9cd0-81fba549e852",
   "metadata": {},
   "outputs": [],
   "source": [
    "data = data.loc[data.downloaded].reset_index(drop=True)"
   ]
  },
  {
   "cell_type": "code",
   "execution_count": 7,
   "id": "3f5c1ad5-9831-48c0-a0ce-284e30c2d895",
   "metadata": {},
   "outputs": [
    {
     "data": {
      "text/plain": [
       "(107225, 4)"
      ]
     },
     "execution_count": 7,
     "metadata": {},
     "output_type": "execute_result"
    }
   ],
   "source": [
    "data.shape"
   ]
  },
  {
   "cell_type": "markdown",
   "id": "1d3a8092-585a-406c-b1fc-47acb75900de",
   "metadata": {},
   "source": [
    "### get image embeddings:\n",
    " "
   ]
  },
  {
   "cell_type": "code",
   "execution_count": 8,
   "id": "e3b96d09-58f9-4551-a742-9e6b1a5b6070",
   "metadata": {},
   "outputs": [
    {
     "data": {
      "text/html": [
       "<div>\n",
       "<style scoped>\n",
       "    .dataframe tbody tr th:only-of-type {\n",
       "        vertical-align: middle;\n",
       "    }\n",
       "\n",
       "    .dataframe tbody tr th {\n",
       "        vertical-align: top;\n",
       "    }\n",
       "\n",
       "    .dataframe thead th {\n",
       "        text-align: right;\n",
       "    }\n",
       "</style>\n",
       "<table border=\"1\" class=\"dataframe\">\n",
       "  <thead>\n",
       "    <tr style=\"text-align: right;\">\n",
       "      <th></th>\n",
       "      <th>link</th>\n",
       "      <th>description</th>\n",
       "      <th>file_key</th>\n",
       "      <th>downloaded</th>\n",
       "    </tr>\n",
       "  </thead>\n",
       "  <tbody>\n",
       "    <tr>\n",
       "      <th>0</th>\n",
       "      <td>https://cdn-st.rutubelist.ru/media/e2/97/f9164...</td>\n",
       "      <td>NaN</td>\n",
       "      <td>f9164f8a41479f961d64842154a7</td>\n",
       "      <td>True</td>\n",
       "    </tr>\n",
       "    <tr>\n",
       "      <th>1</th>\n",
       "      <td>https://cdn-st.rutubelist.ru/media/0f/48/8a1ff...</td>\n",
       "      <td>#diy #постановка #юмор #комедия</td>\n",
       "      <td>8a1ff7324073947a31e80f71d001</td>\n",
       "      <td>True</td>\n",
       "    </tr>\n",
       "  </tbody>\n",
       "</table>\n",
       "</div>"
      ],
      "text/plain": [
       "                                                link  \\\n",
       "0  https://cdn-st.rutubelist.ru/media/e2/97/f9164...   \n",
       "1  https://cdn-st.rutubelist.ru/media/0f/48/8a1ff...   \n",
       "\n",
       "                       description                      file_key  downloaded  \n",
       "0                              NaN  f9164f8a41479f961d64842154a7        True  \n",
       "1  #diy #постановка #юмор #комедия  8a1ff7324073947a31e80f71d001        True  "
      ]
     },
     "execution_count": 8,
     "metadata": {},
     "output_type": "execute_result"
    }
   ],
   "source": [
    "# sample = data.sample(5_000, random_state=1)\n",
    "# sample.head(2)\n",
    "\n",
    "sample = data.copy()\n",
    "sample.head(2)"
   ]
  },
  {
   "cell_type": "code",
   "execution_count": 9,
   "id": "de7415be-edf0-49f6-ab61-0a8baf15ee66",
   "metadata": {},
   "outputs": [],
   "source": [
    "def gen_batch(arr, batch_size=1024):\n",
    "    for i in range(0, len(arr), batch_size):\n",
    "        yield(arr[i:i+batch_size])\n",
    "\n",
    "\n",
    "def get_single_image_embedding(my_image,processor, model, device):\n",
    "    image = processor(\n",
    "      text = None,\n",
    "      images = my_image,\n",
    "      return_tensors=\"pt\"\n",
    "      )[\"pixel_values\"].to(device)\n",
    "    embedding = model.get_image_features(image)\n",
    "    # convert the embeddings to numpy array\n",
    "    return embedding.cpu().detach().numpy()\n"
   ]
  },
  {
   "cell_type": "code",
   "execution_count": 10,
   "id": "d5636edf-792d-49ea-886e-3959573ac0b7",
   "metadata": {},
   "outputs": [
    {
     "name": "stderr",
     "output_type": "stream",
     "text": [
      "2024-06-09 14:46:35.253573: I tensorflow/core/platform/cpu_feature_guard.cc:182] This TensorFlow binary is optimized to use available CPU instructions in performance-critical operations.\n",
      "To enable the following instructions: AVX2 FMA, in other operations, rebuild TensorFlow with the appropriate compiler flags.\n",
      "2024-06-09 14:46:36.689419: W tensorflow/compiler/tf2tensorrt/utils/py_utils.cc:38] TF-TRT Warning: Could not find TensorRT\n"
     ]
    }
   ],
   "source": [
    "from transformers import CLIPProcessor, CLIPModel\n",
    "\n",
    "model = CLIPModel.from_pretrained(\"openai/clip-vit-base-patch32\")\n",
    "processor = CLIPProcessor.from_pretrained(\"openai/clip-vit-base-patch32\")\n"
   ]
  },
  {
   "cell_type": "code",
   "execution_count": null,
   "id": "1a414d8a-43ee-4fc3-b965-32d291487a49",
   "metadata": {},
   "outputs": [],
   "source": []
  },
  {
   "cell_type": "code",
   "execution_count": 11,
   "id": "a286d9bc-8f5f-4e20-99b8-769b58c6448b",
   "metadata": {},
   "outputs": [
    {
     "name": "stdout",
     "output_type": "stream",
     "text": [
      "CPU times: user 2.13 s, sys: 1.06 s, total: 3.19 s\n",
      "Wall time: 3.19 s\n"
     ]
    },
    {
     "data": {
      "text/plain": [
       "device(type='cuda', index=0)"
      ]
     },
     "execution_count": 11,
     "metadata": {},
     "output_type": "execute_result"
    }
   ],
   "source": [
    "%%time\n",
    "\n",
    "model.to('cuda')\n",
    "model.device"
   ]
  },
  {
   "cell_type": "code",
   "execution_count": null,
   "id": "84cff8ab-3ac8-4ab1-8aa0-43f1c926084c",
   "metadata": {
    "tags": []
   },
   "outputs": [
    {
     "name": "stderr",
     "output_type": "stream",
     "text": [
      "1it [01:23, 83.09s/it]"
     ]
    },
    {
     "name": "stdout",
     "output_type": "stream",
     "text": [
      "finished processing batch 0, total time elapsed: 1.385 minutes\n"
     ]
    },
    {
     "name": "stderr",
     "output_type": "stream",
     "text": [
      "2it [03:21, 103.80s/it]"
     ]
    },
    {
     "name": "stdout",
     "output_type": "stream",
     "text": [
      "finished processing batch 1, total time elapsed: 3.357 minutes\n"
     ]
    },
    {
     "name": "stderr",
     "output_type": "stream",
     "text": [
      "3it [05:17, 109.54s/it]"
     ]
    },
    {
     "name": "stdout",
     "output_type": "stream",
     "text": [
      "finished processing batch 2, total time elapsed: 5.296 minutes\n"
     ]
    },
    {
     "name": "stderr",
     "output_type": "stream",
     "text": [
      "4it [07:17, 113.43s/it]"
     ]
    },
    {
     "name": "stdout",
     "output_type": "stream",
     "text": [
      "finished processing batch 3, total time elapsed: 7.286 minutes\n"
     ]
    },
    {
     "name": "stderr",
     "output_type": "stream",
     "text": [
      "5it [09:22, 117.73s/it]"
     ]
    },
    {
     "name": "stdout",
     "output_type": "stream",
     "text": [
      "finished processing batch 4, total time elapsed: 9.375 minutes\n"
     ]
    }
   ],
   "source": [
    "chunk_size = 1024\n",
    "model_batch_size = 128\n",
    "\n",
    "all_files = sample.file_key.tolist()\n",
    "all_files_batches = gen_batch(all_files, batch_size=chunk_size)\n",
    "\n",
    "t0 = time.time()\n",
    "for idx, videos_batch in tqdm.tqdm(enumerate(all_files_batches)):\n",
    "\n",
    "    frames = list()\n",
    "    for file_key in videos_batch:\n",
    "        path = f\"../data/videos/{file_key}.mp4\"\n",
    "        first_image = video_to_images(path, max_frames=1)[0]\n",
    "        frames.append(first_image)\n",
    "\n",
    "    embeds_arr = list()\n",
    "    for batch in gen_batch(frames, batch_size=model_batch_size):\n",
    "        embed = get_single_image_embedding(batch, processor, model, 'cuda')\n",
    "        embeds_arr.append(embed)\n",
    "\n",
    "    embed = np.concatenate(embeds_arr, axis=0)\n",
    "    np.save(f\"/home/letfd/lct2024_data/data/clip_numpy_embeds/batch_{idx}.npy\", embed)\n",
    "    \n",
    "    print(f\"finished processing batch {idx}, total time elapsed: {((time.time() - t0) / 60):.3f} minutes\")"
   ]
  },
  {
   "cell_type": "code",
   "execution_count": null,
   "id": "e56c4ea0-6fa6-44b6-ad7c-7f042eed473d",
   "metadata": {},
   "outputs": [],
   "source": []
  },
  {
   "cell_type": "code",
   "execution_count": null,
   "id": "3dfd7309-d5b1-4bf7-9f90-3422b0737d82",
   "metadata": {},
   "outputs": [],
   "source": []
  }
 ],
 "metadata": {
  "kernelspec": {
   "display_name": "Python 3 (ipykernel)",
   "language": "python",
   "name": "python3"
  },
  "language_info": {
   "codemirror_mode": {
    "name": "ipython",
    "version": 3
   },
   "file_extension": ".py",
   "mimetype": "text/x-python",
   "name": "python",
   "nbconvert_exporter": "python",
   "pygments_lexer": "ipython3",
   "version": "3.8.10"
  }
 },
 "nbformat": 4,
 "nbformat_minor": 5
}
