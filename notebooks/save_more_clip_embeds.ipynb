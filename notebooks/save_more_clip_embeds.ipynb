{
 "cells": [
  {
   "cell_type": "code",
   "execution_count": 1,
   "id": "a21e1d1c-ddd8-4812-9df0-d31c822801fb",
   "metadata": {},
   "outputs": [],
   "source": [
    "import glob\n",
    "import time\n",
    "\n",
    "import pandas as pd\n",
    "import numpy as np\n",
    "from matplotlib import pyplot as plt\n",
    "import tqdm\n",
    "%matplotlib inline"
   ]
  },
  {
   "cell_type": "code",
   "execution_count": 2,
   "id": "94f179df-837a-43e3-acf9-4fca21c0ad43",
   "metadata": {},
   "outputs": [
    {
     "name": "stdout",
     "output_type": "stream",
     "text": [
      "CPU times: user 1.85 s, sys: 138 ms, total: 1.99 s\n",
      "Wall time: 361 ms\n"
     ]
    }
   ],
   "source": [
    "%%time\n",
    "\n",
    "import cv2\n",
    "\n",
    "def video_to_images(video_path, max_frames=int(1e9)):\n",
    "    key = video_path.split('/')[-1].replace('.mp4', '')\n",
    "    \n",
    "    # Load the video\n",
    "    cap = cv2.VideoCapture(video_path)\n",
    "    \n",
    "    # Check if video opened successfully\n",
    "    if not cap.isOpened():\n",
    "        print(\"Error: Could not open video.\")\n",
    "        return []\n",
    "    \n",
    "    images = []\n",
    "    \n",
    "    total_frames = int(cap.get(cv2.CAP_PROP_FRAME_COUNT))\n",
    "    \n",
    "    # Frame indices for first, middle, and last frames\n",
    "    frames_to_capture = [total_frames // 2, total_frames - 1]\n",
    "    images = []\n",
    "    \n",
    "    # Read specific frames\n",
    "    for frame_index in frames_to_capture:\n",
    "        # Set the current frame position\n",
    "        cap.set(cv2.CAP_PROP_POS_FRAMES, frame_index)\n",
    "        \n",
    "        # Read the frame\n",
    "        ret, frame = cap.read()\n",
    "        if ret:\n",
    "            images.append(frame)\n",
    "        else:\n",
    "            break\n",
    "\n",
    "    # Release the video capture object\n",
    "    cap.release()\n",
    "    \n",
    "    images = [i[:,:,[2,1,0]] for i in images]\n",
    "    \n",
    "    return (\n",
    "        key,\n",
    "        total_frames,\n",
    "        images\n",
    "    )\n",
    "\n",
    "# Example usage\n",
    "# video_path = '../data/videos/5cff3a6f42908c8ef37a2eb205eb.mp4'\n",
    "\n",
    "images = video_to_images(video_path)\n"
   ]
  },
  {
   "cell_type": "code",
   "execution_count": null,
   "id": "df99a64a-bd57-42c6-99ff-dd5ee9336043",
   "metadata": {},
   "outputs": [],
   "source": []
  },
  {
   "cell_type": "code",
   "execution_count": 3,
   "id": "a695f424-110c-47c6-adf5-3500ff6d3de2",
   "metadata": {},
   "outputs": [
    {
     "name": "stdout",
     "output_type": "stream",
     "text": [
      "(107225, 4)\n"
     ]
    },
    {
     "data": {
      "text/html": [
       "<div>\n",
       "<style scoped>\n",
       "    .dataframe tbody tr th:only-of-type {\n",
       "        vertical-align: middle;\n",
       "    }\n",
       "\n",
       "    .dataframe tbody tr th {\n",
       "        vertical-align: top;\n",
       "    }\n",
       "\n",
       "    .dataframe thead th {\n",
       "        text-align: right;\n",
       "    }\n",
       "</style>\n",
       "<table border=\"1\" class=\"dataframe\">\n",
       "  <thead>\n",
       "    <tr style=\"text-align: right;\">\n",
       "      <th></th>\n",
       "      <th>link</th>\n",
       "      <th>description</th>\n",
       "      <th>file_key</th>\n",
       "      <th>downloaded</th>\n",
       "    </tr>\n",
       "  </thead>\n",
       "  <tbody>\n",
       "    <tr>\n",
       "      <th>0</th>\n",
       "      <td>https://cdn-st.rutubelist.ru/media/e2/97/f9164...</td>\n",
       "      <td>NaN</td>\n",
       "      <td>f9164f8a41479f961d64842154a7</td>\n",
       "      <td>True</td>\n",
       "    </tr>\n",
       "    <tr>\n",
       "      <th>1</th>\n",
       "      <td>https://cdn-st.rutubelist.ru/media/0f/48/8a1ff...</td>\n",
       "      <td>#diy #постановка #юмор #комедия</td>\n",
       "      <td>8a1ff7324073947a31e80f71d001</td>\n",
       "      <td>True</td>\n",
       "    </tr>\n",
       "  </tbody>\n",
       "</table>\n",
       "</div>"
      ],
      "text/plain": [
       "                                                link  \\\n",
       "0  https://cdn-st.rutubelist.ru/media/e2/97/f9164...   \n",
       "1  https://cdn-st.rutubelist.ru/media/0f/48/8a1ff...   \n",
       "\n",
       "                       description                      file_key  downloaded  \n",
       "0                              NaN  f9164f8a41479f961d64842154a7        True  \n",
       "1  #diy #постановка #юмор #комедия  8a1ff7324073947a31e80f71d001        True  "
      ]
     },
     "execution_count": 3,
     "metadata": {},
     "output_type": "execute_result"
    }
   ],
   "source": [
    "data = pd.read_csv(\"yappy_data_w_clip_embeds.csv\")\n",
    "print(data.shape)\n",
    "data.head(2)"
   ]
  },
  {
   "cell_type": "code",
   "execution_count": 4,
   "id": "afba1d4e-19c0-4ed1-b85d-64ccc8820074",
   "metadata": {},
   "outputs": [],
   "source": [
    "data['vid_path'] = data.file_key.apply(lambda k: f\"/home/letfd/lct2024_data/data/videos/{k}.mp4\")"
   ]
  },
  {
   "cell_type": "code",
   "execution_count": 5,
   "id": "e9cfc227-d69c-4ee3-b409-5aa41301a1c0",
   "metadata": {},
   "outputs": [
    {
     "name": "stdout",
     "output_type": "stream",
     "text": [
      "CPU times: user 1.16 s, sys: 81.2 ms, total: 1.24 s\n",
      "Wall time: 227 ms\n"
     ]
    }
   ],
   "source": [
    "%%time\n",
    "\n",
    "tmp = video_to_images(data.iloc[20].vid_path)"
   ]
  },
  {
   "cell_type": "code",
   "execution_count": 6,
   "id": "964066e3-6edc-4fc2-bb67-aa334829a880",
   "metadata": {},
   "outputs": [],
   "source": [
    "# парсим видео\n",
    "# сохраняем кадр (numpy_arr), file_key, frame_index, num_frames\n"
   ]
  },
  {
   "cell_type": "code",
   "execution_count": 7,
   "id": "eb1cc09e-59dc-4ae2-b050-f352c4d702a8",
   "metadata": {},
   "outputs": [],
   "source": [
    "from multiprocessing import Pool"
   ]
  },
  {
   "cell_type": "code",
   "execution_count": 8,
   "id": "da8c5e7d-5945-4710-b86f-e41f0728b6e5",
   "metadata": {},
   "outputs": [],
   "source": [
    "# %%time\n",
    "\n",
    "# with Pool(4) as p:\n",
    "#     res = p.map(video_to_images, data['vid_path'].tolist()[:20])"
   ]
  },
  {
   "cell_type": "code",
   "execution_count": 9,
   "id": "dd7cabaa-d394-4b97-85cb-26a29aeb24dc",
   "metadata": {},
   "outputs": [
    {
     "name": "stdout",
     "output_type": "stream",
     "text": [
      "CPU times: user 35.4 s, sys: 2.32 s, total: 37.7 s\n",
      "Wall time: 6.45 s\n"
     ]
    }
   ],
   "source": [
    "%%time\n",
    "\n",
    "res2 = [video_to_images(p) for p in data['vid_path'].tolist()[:20]]"
   ]
  },
  {
   "cell_type": "code",
   "execution_count": null,
   "id": "bf5d2c03-d358-4752-8fde-811f2d9b2a8b",
   "metadata": {},
   "outputs": [],
   "source": []
  },
  {
   "cell_type": "markdown",
   "id": "1237b078-7274-4162-ab75-c03855bbafdd",
   "metadata": {},
   "source": [
    "### get image embeddings:\n",
    " "
   ]
  },
  {
   "cell_type": "code",
   "execution_count": 10,
   "id": "7f573901-5ae1-46f3-9ef4-2e95e65c076b",
   "metadata": {},
   "outputs": [
    {
     "data": {
      "text/html": [
       "<div>\n",
       "<style scoped>\n",
       "    .dataframe tbody tr th:only-of-type {\n",
       "        vertical-align: middle;\n",
       "    }\n",
       "\n",
       "    .dataframe tbody tr th {\n",
       "        vertical-align: top;\n",
       "    }\n",
       "\n",
       "    .dataframe thead th {\n",
       "        text-align: right;\n",
       "    }\n",
       "</style>\n",
       "<table border=\"1\" class=\"dataframe\">\n",
       "  <thead>\n",
       "    <tr style=\"text-align: right;\">\n",
       "      <th></th>\n",
       "      <th>link</th>\n",
       "      <th>description</th>\n",
       "      <th>file_key</th>\n",
       "      <th>downloaded</th>\n",
       "      <th>vid_path</th>\n",
       "    </tr>\n",
       "  </thead>\n",
       "  <tbody>\n",
       "    <tr>\n",
       "      <th>0</th>\n",
       "      <td>https://cdn-st.rutubelist.ru/media/e2/97/f9164...</td>\n",
       "      <td>NaN</td>\n",
       "      <td>f9164f8a41479f961d64842154a7</td>\n",
       "      <td>True</td>\n",
       "      <td>/home/letfd/lct2024_data/data/videos/f9164f8a4...</td>\n",
       "    </tr>\n",
       "    <tr>\n",
       "      <th>1</th>\n",
       "      <td>https://cdn-st.rutubelist.ru/media/0f/48/8a1ff...</td>\n",
       "      <td>#diy #постановка #юмор #комедия</td>\n",
       "      <td>8a1ff7324073947a31e80f71d001</td>\n",
       "      <td>True</td>\n",
       "      <td>/home/letfd/lct2024_data/data/videos/8a1ff7324...</td>\n",
       "    </tr>\n",
       "  </tbody>\n",
       "</table>\n",
       "</div>"
      ],
      "text/plain": [
       "                                                link  \\\n",
       "0  https://cdn-st.rutubelist.ru/media/e2/97/f9164...   \n",
       "1  https://cdn-st.rutubelist.ru/media/0f/48/8a1ff...   \n",
       "\n",
       "                       description                      file_key  downloaded  \\\n",
       "0                              NaN  f9164f8a41479f961d64842154a7        True   \n",
       "1  #diy #постановка #юмор #комедия  8a1ff7324073947a31e80f71d001        True   \n",
       "\n",
       "                                            vid_path  \n",
       "0  /home/letfd/lct2024_data/data/videos/f9164f8a4...  \n",
       "1  /home/letfd/lct2024_data/data/videos/8a1ff7324...  "
      ]
     },
     "execution_count": 10,
     "metadata": {},
     "output_type": "execute_result"
    }
   ],
   "source": [
    "# sample = data.sample(5_000, random_state=1)\n",
    "# sample.head(2)\n",
    "\n",
    "sample = data.copy()\n",
    "sample.head(2)"
   ]
  },
  {
   "cell_type": "code",
   "execution_count": 11,
   "id": "0c7cb455-daf9-4d49-a07f-d74c634a646a",
   "metadata": {},
   "outputs": [],
   "source": [
    "def gen_batch(arr, batch_size=1024):\n",
    "    for i in range(0, len(arr), batch_size):\n",
    "        yield(arr[i:i+batch_size])\n",
    "\n",
    "\n",
    "def get_single_image_embedding(my_image, processor, model, device):\n",
    "    image = processor(\n",
    "      text = None,\n",
    "      images = my_image,\n",
    "      return_tensors=\"pt\"\n",
    "      )[\"pixel_values\"].to(device)\n",
    "    embedding = model.get_image_features(image)\n",
    "    # convert the embeddings to numpy array\n",
    "    return embedding.cpu().detach().numpy()\n"
   ]
  },
  {
   "cell_type": "code",
   "execution_count": 12,
   "id": "ec480adb-8e6d-4a64-81cc-609f9f17bb51",
   "metadata": {},
   "outputs": [
    {
     "name": "stderr",
     "output_type": "stream",
     "text": [
      "2024-06-23 21:33:53.107298: I tensorflow/core/platform/cpu_feature_guard.cc:182] This TensorFlow binary is optimized to use available CPU instructions in performance-critical operations.\n",
      "To enable the following instructions: AVX2 FMA, in other operations, rebuild TensorFlow with the appropriate compiler flags.\n",
      "2024-06-23 21:33:54.335796: W tensorflow/compiler/tf2tensorrt/utils/py_utils.cc:38] TF-TRT Warning: Could not find TensorRT\n"
     ]
    }
   ],
   "source": [
    "from transformers import CLIPProcessor, CLIPModel\n",
    "\n",
    "model = CLIPModel.from_pretrained(\"openai/clip-vit-base-patch32\")\n",
    "processor = CLIPProcessor.from_pretrained(\"openai/clip-vit-base-patch32\")\n"
   ]
  },
  {
   "cell_type": "code",
   "execution_count": null,
   "id": "c6dd467a-8d13-46f1-82b0-ae7faa175964",
   "metadata": {},
   "outputs": [],
   "source": []
  },
  {
   "cell_type": "code",
   "execution_count": 13,
   "id": "3bc91ea3-d9ae-45f9-aea2-8c7e82bda607",
   "metadata": {},
   "outputs": [
    {
     "name": "stdout",
     "output_type": "stream",
     "text": [
      "CPU times: user 1.8 s, sys: 1.02 s, total: 2.83 s\n",
      "Wall time: 2.84 s\n"
     ]
    },
    {
     "data": {
      "text/plain": [
       "device(type='cuda', index=0)"
      ]
     },
     "execution_count": 13,
     "metadata": {},
     "output_type": "execute_result"
    }
   ],
   "source": [
    "%%time\n",
    "\n",
    "model.to('cuda')\n",
    "model.device"
   ]
  },
  {
   "cell_type": "code",
   "execution_count": null,
   "id": "53992f7e-3f1e-4828-8a75-cbedbfccf0f1",
   "metadata": {},
   "outputs": [],
   "source": []
  },
  {
   "cell_type": "code",
   "execution_count": null,
   "id": "b7cd8442-e43f-4283-b056-ba83a1a216d9",
   "metadata": {},
   "outputs": [
    {
     "name": "stderr",
     "output_type": "stream",
     "text": [
      "0it [00:00, ?it/s]"
     ]
    },
    {
     "name": "stdout",
     "output_type": "stream",
     "text": [
      "video returned not 2 frames: /home/letfd/lct2024_data/data/videos/8dc4f0d74f1e88263ac240b39f85.mp4; returned 1 frames; total frames in video: 1\n",
      "video returned not 2 frames: /home/letfd/lct2024_data/data/videos/328039b546039fffaf0d53b66ae9.mp4; returned 1 frames; total frames in video: 1\n"
     ]
    },
    {
     "name": "stderr",
     "output_type": "stream",
     "text": [
      "6it [02:10, 21.71s/it]"
     ]
    },
    {
     "name": "stdout",
     "output_type": "stream",
     "text": [
      "finished processing batch 5, total time elapsed: 2.171 minutes\n"
     ]
    }
   ],
   "source": [
    "chunk_size = 256 # 1024\n",
    "model_batch_size = 128\n",
    "\n",
    "all_files = sample.vid_path.tolist()[:55_000]\n",
    "all_files_batches = gen_batch(all_files, batch_size=chunk_size)\n",
    "\n",
    "t0 = time.time()\n",
    "for idx, videos_batch in tqdm.tqdm(enumerate(all_files_batches)):\n",
    "    \n",
    "    ## restart after exception\n",
    "    if idx < 5:\n",
    "        continue\n",
    "\n",
    "    frames = list()\n",
    "    frames_meta = list()\n",
    "\n",
    "    for fpath in videos_batch:\n",
    "        vid_key, vid_num_frames, vid_frames = video_to_images(fpath, max_frames=5_000)\n",
    "        \n",
    "        # assert len(vid_frames) == 2\n",
    "        if len(vid_frames) != 2:\n",
    "            print(f\"video returned not 2 frames: {fpath}; returned {len(vid_frames)} frames; total frames in video: {vid_num_frames}\")\n",
    "        frames.extend(vid_frames)\n",
    "        frames_meta.extend([\n",
    "            [vid_key, vid_num_frames, 'mid'],\n",
    "            [vid_key, vid_num_frames, 'last']\n",
    "        ])\n",
    "\n",
    "    embeds_arr = list()\n",
    "    for batch in gen_batch(frames, batch_size=model_batch_size):\n",
    "        embed = get_single_image_embedding(batch, processor, model, 'cuda')\n",
    "        embeds_arr.append(embed)\n",
    "\n",
    "    embed = np.concatenate(embeds_arr, axis=0)\n",
    "    np.save(f\"/home/letfd/lct2024_data/data/clip_numpy_embeds_ext/batch_{idx}.npy\", embed)\n",
    "    pd.DataFrame(frames_meta, columns=['file_key', 'num_frames', 'frame_pos']).to_csv(\n",
    "        f\"/home/letfd/lct2024_data/data/clip_numpy_embeds_ext/batch_meta_{idx}.csv\"\n",
    "    )\n",
    "    \n",
    "    print(f\"finished processing batch {idx}, total time elapsed: {((time.time() - t0) / 60):.3f} minutes\")\n"
   ]
  },
  {
   "cell_type": "code",
   "execution_count": null,
   "id": "33e74ddf-6d74-4ccc-b672-0f8241c32cbc",
   "metadata": {},
   "outputs": [],
   "source": []
  }
 ],
 "metadata": {
  "kernelspec": {
   "display_name": "Python 3 (ipykernel)",
   "language": "python",
   "name": "python3"
  },
  "language_info": {
   "codemirror_mode": {
    "name": "ipython",
    "version": 3
   },
   "file_extension": ".py",
   "mimetype": "text/x-python",
   "name": "python",
   "nbconvert_exporter": "python",
   "pygments_lexer": "ipython3",
   "version": "3.8.10"
  }
 },
 "nbformat": 4,
 "nbformat_minor": 5
}
