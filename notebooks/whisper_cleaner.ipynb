{
 "cells": [
  {
   "cell_type": "code",
   "execution_count": 1,
   "id": "a84138e2-47b0-4dcd-9eb3-23f232740715",
   "metadata": {},
   "outputs": [],
   "source": [
    "import glob\n",
    "import json"
   ]
  },
  {
   "cell_type": "code",
   "execution_count": 2,
   "id": "03740de4-7782-468f-9586-716fcbbd08ac",
   "metadata": {},
   "outputs": [
    {
     "name": "stderr",
     "output_type": "stream",
     "text": [
      "2024-06-08 14:50:54.075941: I tensorflow/core/platform/cpu_feature_guard.cc:182] This TensorFlow binary is optimized to use available CPU instructions in performance-critical operations.\n",
      "To enable the following instructions: AVX2 FMA, in other operations, rebuild TensorFlow with the appropriate compiler flags.\n",
      "2024-06-08 14:50:55.079996: W tensorflow/compiler/tf2tensorrt/utils/py_utils.cc:38] TF-TRT Warning: Could not find TensorRT\n"
     ]
    }
   ],
   "source": [
    "from transformers import WhisperProcessor, WhisperForConditionalGeneration\n",
    "from datasets import load_dataset\n",
    "\n",
    "import torch\n",
    "from transformers import AutoModelForSpeechSeq2Seq, AutoProcessor, pipeline\n",
    "from datasets import load_dataset"
   ]
  },
  {
   "cell_type": "code",
   "execution_count": null,
   "id": "9ef8b9e8-33fb-49db-b3f3-e89ecd897b00",
   "metadata": {},
   "outputs": [],
   "source": []
  },
  {
   "cell_type": "code",
   "execution_count": 3,
   "id": "66d5fa1c-f1a2-46cc-b01e-94c72b7ade2c",
   "metadata": {},
   "outputs": [
    {
     "name": "stdout",
     "output_type": "stream",
     "text": [
      "106656\n"
     ]
    }
   ],
   "source": [
    "mp3_data = glob.glob('/home/letfd/lct2024_data/data/audios/*.mp3')\n",
    "print(len(mp3_data))"
   ]
  },
  {
   "cell_type": "code",
   "execution_count": 4,
   "id": "2fd96d7b-12b1-4a2a-b13b-209f88dbe4da",
   "metadata": {},
   "outputs": [],
   "source": [
    "## get parsed audios:\n",
    "\n",
    "trans_arr = list()\n",
    "transcribed = glob.glob('/home/letfd/lct2024_data/data/transcript/*.json')\n",
    "for path in transcribed:\n",
    "    with open(path, 'r') as f:\n",
    "        trans_file = json.load(f)\n",
    "        trans_arr.extend(trans_file)\n"
   ]
  },
  {
   "cell_type": "code",
   "execution_count": 7,
   "id": "0c212066-891e-49f7-85c9-4d62d474bb5e",
   "metadata": {},
   "outputs": [
    {
     "data": {
      "text/plain": [
       "{'0b75b0e74c308a4f840ceb349b23.mp3': {'text': ' Субтитры сделал DimaTorzok',\n",
       "  'chunks': [{'timestamp': [0.0, 12.88],\n",
       "    'text': ' Субтитры сделал DimaTorzok'}]}}"
      ]
     },
     "execution_count": 7,
     "metadata": {},
     "output_type": "execute_result"
    }
   ],
   "source": [
    "trans_arr[0]"
   ]
  },
  {
   "cell_type": "code",
   "execution_count": null,
   "id": "40adbedb-57f0-446b-8b8b-1ffdca812f81",
   "metadata": {},
   "outputs": [],
   "source": []
  },
  {
   "cell_type": "code",
   "execution_count": 12,
   "id": "4edcad8e-74bd-4f87-8371-41cb6566bc83",
   "metadata": {},
   "outputs": [],
   "source": [
    "# with open('/home/letfd/lct2024_data/data/transcript/merged_transcript_3.json', 'w') as f:\n",
    "#     json.dump(trans_arr, f)"
   ]
  },
  {
   "cell_type": "code",
   "execution_count": 13,
   "id": "74bf5bf7-8fe8-41cc-97d1-0f61033af2e7",
   "metadata": {},
   "outputs": [],
   "source": [
    "# !cp '/home/letfd/lct2024_data/data/transcript/merged_transcript_3.json' ."
   ]
  },
  {
   "cell_type": "code",
   "execution_count": null,
   "id": "a9b87aee-7490-4479-a835-848074b68fd5",
   "metadata": {},
   "outputs": [],
   "source": []
  },
  {
   "cell_type": "code",
   "execution_count": 14,
   "id": "7e6252e2-790f-4280-9f1f-c476ccd62fac",
   "metadata": {},
   "outputs": [],
   "source": [
    "### \n",
    "new_format_output = dict()\n",
    "for row in trans_arr:\n",
    "    new_format_output.update(row.items())"
   ]
  },
  {
   "cell_type": "code",
   "execution_count": 15,
   "id": "346760a0-71ad-4436-a04e-d612ccfbb020",
   "metadata": {},
   "outputs": [
    {
     "data": {
      "text/plain": [
       "106400"
      ]
     },
     "execution_count": 15,
     "metadata": {},
     "output_type": "execute_result"
    }
   ],
   "source": [
    "len(new_format_output)"
   ]
  },
  {
   "cell_type": "code",
   "execution_count": 16,
   "id": "dcaa17d2-ae0f-47b5-a402-c1b7ab030f3c",
   "metadata": {},
   "outputs": [
    {
     "data": {
      "text/plain": [
       "['0b75b0e74c308a4f840ceb349b23.mp3',\n",
       " '60630ce8485586a4e0e333dacec3.mp3',\n",
       " '9882ccef46d7821bd0fdced4d97b.mp3',\n",
       " '7576fd1644c3a159ed61b2af19ee.mp3',\n",
       " '3d973bba4dd1ac04e5867a2c37be.mp3',\n",
       " '75d9529f4d04ad83375047d99235.mp3',\n",
       " 'e1574c3a4ca2a782f6a2708cd971.mp3',\n",
       " '617d38164623be8c6b6e3a4c7c5b.mp3',\n",
       " 'fbda3d234e328022a3d09afbf169.mp3',\n",
       " '6dc405c7438199975b7433b83402.mp3']"
      ]
     },
     "execution_count": 16,
     "metadata": {},
     "output_type": "execute_result"
    }
   ],
   "source": [
    "list(new_format_output.keys())[:10]"
   ]
  },
  {
   "cell_type": "code",
   "execution_count": 17,
   "id": "c3c739e8-9233-4d93-8465-8a8ac1b5df74",
   "metadata": {},
   "outputs": [],
   "source": [
    "# with open('whisper_results_100k.json', 'w') as f:\n",
    "#     json.dump(new_format_output, f)"
   ]
  },
  {
   "cell_type": "code",
   "execution_count": null,
   "id": "4d251463-9219-4655-9fc5-59ce1fb97d17",
   "metadata": {},
   "outputs": [],
   "source": []
  },
  {
   "cell_type": "code",
   "execution_count": 10,
   "id": "6fd3f179-ea29-4f96-a95b-b6ee16b98c7c",
   "metadata": {},
   "outputs": [
    {
     "data": {
      "text/plain": [
       "37452"
      ]
     },
     "execution_count": 10,
     "metadata": {},
     "output_type": "execute_result"
    }
   ],
   "source": [
    "parsed_mp3s = list()\n",
    "for t in trans_arr:\n",
    "    parsed_mp3s.extend(t.keys())\n",
    "parsed_mp3s = set(parsed_mp3s)\n",
    "len(parsed_mp3s)"
   ]
  },
  {
   "cell_type": "code",
   "execution_count": 11,
   "id": "96b58abb-a692-4d1e-a13b-a1b389152701",
   "metadata": {},
   "outputs": [
    {
     "data": {
      "text/plain": [
       "['3d648ef746b0b64694b5d26cea9c.mp3',\n",
       " '5201069e439e81d740c2a8343c6a.mp3',\n",
       " 'cd47d8ae44e5ae11c96eb0e9b294.mp3',\n",
       " 'a737b697413cb87c54726453a37c.mp3',\n",
       " 'd0a9f17d4e539b76cc3d07957d01.mp3',\n",
       " '3c7ab9b7441c8ee4ec00865d76dd.mp3',\n",
       " 'c8a8c8ba4f7ba372771ba36fd521.mp3',\n",
       " '01f95de7464c9c1e5f771b10dc8b.mp3',\n",
       " '10eff3164f7394167130e29cb9b4.mp3',\n",
       " 'ced057654d39993176b1deddfd93.mp3']"
      ]
     },
     "execution_count": 11,
     "metadata": {},
     "output_type": "execute_result"
    }
   ],
   "source": [
    "list(parsed_mp3s)[:10]"
   ]
  },
  {
   "cell_type": "code",
   "execution_count": null,
   "id": "3d3f3dd4-c069-4623-8ca5-f36ecf97875e",
   "metadata": {},
   "outputs": [],
   "source": []
  },
  {
   "cell_type": "code",
   "execution_count": 12,
   "id": "ae92d2a2-55d1-46e7-9c34-5c13be84ce5e",
   "metadata": {},
   "outputs": [
    {
     "name": "stderr",
     "output_type": "stream",
     "text": [
      "Special tokens have been added in the vocabulary, make sure the associated word embeddings are fine-tuned or trained.\n"
     ]
    },
    {
     "name": "stdout",
     "output_type": "stream",
     "text": [
      "CPU times: user 4.68 s, sys: 3.67 s, total: 8.35 s\n",
      "Wall time: 9min 57s\n"
     ]
    }
   ],
   "source": [
    "%%time\n",
    "\n",
    "device = \"cuda:0\" if torch.cuda.is_available() else \"cpu\"\n",
    "torch_dtype = torch.float16 if torch.cuda.is_available() else torch.float32\n",
    "\n",
    "model_id = \"openai/whisper-large-v3\"\n",
    "\n",
    "model = AutoModelForSpeechSeq2Seq.from_pretrained(\n",
    "    model_id, torch_dtype=torch_dtype, low_cpu_mem_usage=True, use_safetensors=True\n",
    ")\n",
    "model.to(device)\n",
    "\n",
    "processor = AutoProcessor.from_pretrained(model_id)\n",
    "\n",
    "pipe = pipeline(\n",
    "    \"automatic-speech-recognition\",\n",
    "    model=model,\n",
    "    tokenizer=processor.tokenizer,\n",
    "    feature_extractor=processor.feature_extractor,\n",
    "    max_new_tokens=128,\n",
    "    chunk_length_s=30,\n",
    "    batch_size=16,\n",
    "    return_timestamps=True,\n",
    "    torch_dtype=torch_dtype,\n",
    "    device=device,\n",
    ")"
   ]
  },
  {
   "cell_type": "code",
   "execution_count": 13,
   "id": "56bf99d6-bf34-40c6-943e-249fc6c25f35",
   "metadata": {},
   "outputs": [],
   "source": [
    "pipe = pipeline(\n",
    "    \"automatic-speech-recognition\",\n",
    "    model=model,\n",
    "    tokenizer=processor.tokenizer,\n",
    "    feature_extractor=processor.feature_extractor,\n",
    "    max_new_tokens=128,\n",
    "    chunk_length_s=30,\n",
    "    batch_size=32,\n",
    "    return_timestamps=True,\n",
    "    torch_dtype=torch_dtype,\n",
    "    device=device,\n",
    ")"
   ]
  },
  {
   "cell_type": "code",
   "execution_count": 14,
   "id": "c12aade1-bc6a-4bd1-acb7-85d729566c71",
   "metadata": {},
   "outputs": [],
   "source": [
    "# 41.5 сек на 65 видео (small, bs=16)\n",
    "# 1min 9s на 65 видео (small, bs=4)\n",
    "# 33.1 сек на 65 видел (tiny)\n",
    "# 1min 13s на 65 видео (large-v3, bs=16)\n",
    "# 4min 2s на 128 видео (large-v3, bs=16)\n",
    "# 1min 37s на 128 видео (large-v3, bs=32)\n"
   ]
  },
  {
   "cell_type": "code",
   "execution_count": null,
   "id": "167108de-7c24-4e52-af9e-450f3061b6a6",
   "metadata": {},
   "outputs": [],
   "source": []
  },
  {
   "cell_type": "code",
   "execution_count": 15,
   "id": "9c7674d5-6ca4-4839-876d-6ebbe6425ef2",
   "metadata": {},
   "outputs": [],
   "source": [
    "def gen_batch(arr, batch_size=1024):\n",
    "    for i in range(0, len(arr), batch_size):\n",
    "        yield(arr[i:i+batch_size])"
   ]
  },
  {
   "cell_type": "code",
   "execution_count": null,
   "id": "ef3949c2-9a15-4171-a9b0-e1a61f624e3c",
   "metadata": {},
   "outputs": [],
   "source": []
  },
  {
   "cell_type": "code",
   "execution_count": 16,
   "id": "502026e3-744f-4441-b352-bb1498710b26",
   "metadata": {},
   "outputs": [],
   "source": [
    "import pathlib"
   ]
  },
  {
   "cell_type": "code",
   "execution_count": 17,
   "id": "d0352f71-a79a-4fe9-aad2-71a3fc270dc0",
   "metadata": {},
   "outputs": [],
   "source": [
    "mp3_data = [p for p in mp3_data if pathlib.Path(p).name not in parsed_mp3s]"
   ]
  },
  {
   "cell_type": "code",
   "execution_count": 18,
   "id": "26727314-3305-4ded-a968-c8da4e34e5ac",
   "metadata": {},
   "outputs": [
    {
     "data": {
      "text/plain": [
       "69204"
      ]
     },
     "execution_count": 18,
     "metadata": {},
     "output_type": "execute_result"
    }
   ],
   "source": [
    "len(mp3_data)"
   ]
  },
  {
   "cell_type": "code",
   "execution_count": null,
   "id": "04f24548-e6dd-4664-9103-93393daa37fb",
   "metadata": {},
   "outputs": [],
   "source": []
  },
  {
   "cell_type": "code",
   "execution_count": 18,
   "id": "21f27fa1-f3f1-4f17-91ef-3c595c915fba",
   "metadata": {},
   "outputs": [],
   "source": [
    "import json\n",
    "import time\n",
    "\n",
    "t0 = time.time()\n",
    "for idx, part in enumerate(gen_batch(mp3_data, batch_size=64)):\n",
    "    ## pseudo wisper:\n",
    "    # trans = [{'text': 'dummy', 'chunks':[]} for _ in part]\n",
    "    \n",
    "    try:\n",
    "        trans = pipe(part, generate_kwargs={\"language\": \"russian\"})\n",
    "        zipped = [{fp.split('/')[-1]: transcript} for fp, transcript in zip(part, trans)]\n",
    "        with open(f\"/home/letfd/lct2024_data/data/transcript/trans_{idx}.json\", \"w\") as f:\n",
    "            json.dump(zipped, f)\n",
    "    except Exception as e:\n",
    "        print(f\"failed part {idx} with exception {e}\")\n",
    "\n",
    "    print(f'finished part {idx}; elapsed time: {((time.time() - t0) / 60):.3f} minutes')"
   ]
  },
  {
   "cell_type": "code",
   "execution_count": null,
   "id": "6e0b460c-c550-4689-b353-57a27e417955",
   "metadata": {},
   "outputs": [],
   "source": []
  }
 ],
 "metadata": {
  "kernelspec": {
   "display_name": "Python 3 (ipykernel)",
   "language": "python",
   "name": "python3"
  },
  "language_info": {
   "codemirror_mode": {
    "name": "ipython",
    "version": 3
   },
   "file_extension": ".py",
   "mimetype": "text/x-python",
   "name": "python",
   "nbconvert_exporter": "python",
   "pygments_lexer": "ipython3",
   "version": "3.8.10"
  }
 },
 "nbformat": 4,
 "nbformat_minor": 5
}
