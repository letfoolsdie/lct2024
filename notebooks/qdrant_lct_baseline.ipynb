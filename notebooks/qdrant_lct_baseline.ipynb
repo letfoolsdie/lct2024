{
 "cells": [
  {
   "cell_type": "code",
   "execution_count": 1,
   "id": "cb22e400-d90a-4848-a8db-925d185b3eaf",
   "metadata": {},
   "outputs": [
    {
     "name": "stderr",
     "output_type": "stream",
     "text": [
      "/home/letfd/virtual_envs/base_env/lib/python3.8/site-packages/requests/__init__.py:109: RequestsDependencyWarning: urllib3 (2.2.1) or chardet (None)/charset_normalizer (2.1.1) doesn't match a supported version!\n",
      "  warnings.warn(\n"
     ]
    }
   ],
   "source": [
    "from sentence_transformers import SentenceTransformer\n",
    "import numpy as np\n",
    "import json\n",
    "import pandas as pd\n",
    "from tqdm.notebook import tqdm"
   ]
  },
  {
   "cell_type": "code",
   "execution_count": 2,
   "id": "2ebbc6d8-4ad3-4682-a6d5-a5b4002aea6f",
   "metadata": {},
   "outputs": [
    {
     "data": {
      "application/vnd.jupyter.widget-view+json": {
       "model_id": "ca6859aa7edf46cabe836af4f8ebba08",
       "version_major": 2,
       "version_minor": 0
      },
      "text/plain": [
       "modules.json:   0%|          | 0.00/341 [00:00<?, ?B/s]"
      ]
     },
     "metadata": {},
     "output_type": "display_data"
    },
    {
     "data": {
      "application/vnd.jupyter.widget-view+json": {
       "model_id": "7c6b9bbbe75f43cf901d579e55533a9c",
       "version_major": 2,
       "version_minor": 0
      },
      "text/plain": [
       "config_sentence_transformers.json:   0%|          | 0.00/122 [00:00<?, ?B/s]"
      ]
     },
     "metadata": {},
     "output_type": "display_data"
    },
    {
     "data": {
      "application/vnd.jupyter.widget-view+json": {
       "model_id": "656bf2b7464c4eb5993a5bc19de3e48a",
       "version_major": 2,
       "version_minor": 0
      },
      "text/plain": [
       "README.md:   0%|          | 0.00/2.47k [00:00<?, ?B/s]"
      ]
     },
     "metadata": {},
     "output_type": "display_data"
    },
    {
     "data": {
      "application/vnd.jupyter.widget-view+json": {
       "model_id": "bba359c1d6fd4553952223fb8aede6d2",
       "version_major": 2,
       "version_minor": 0
      },
      "text/plain": [
       "sentence_bert_config.json:   0%|          | 0.00/53.0 [00:00<?, ?B/s]"
      ]
     },
     "metadata": {},
     "output_type": "display_data"
    },
    {
     "data": {
      "application/vnd.jupyter.widget-view+json": {
       "model_id": "7d76e29ed0db4cc4a539c29701354f26",
       "version_major": 2,
       "version_minor": 0
      },
      "text/plain": [
       "config.json:   0%|          | 0.00/556 [00:00<?, ?B/s]"
      ]
     },
     "metadata": {},
     "output_type": "display_data"
    },
    {
     "data": {
      "application/vnd.jupyter.widget-view+json": {
       "model_id": "a4d4df3bf95249489584e38e677b3b22",
       "version_major": 2,
       "version_minor": 0
      },
      "text/plain": [
       "model.safetensors:   0%|          | 0.00/539M [00:00<?, ?B/s]"
      ]
     },
     "metadata": {},
     "output_type": "display_data"
    },
    {
     "data": {
      "application/vnd.jupyter.widget-view+json": {
       "model_id": "763b0be6f85244d6b14b85483daaf8a0",
       "version_major": 2,
       "version_minor": 0
      },
      "text/plain": [
       "tokenizer_config.json:   0%|          | 0.00/452 [00:00<?, ?B/s]"
      ]
     },
     "metadata": {},
     "output_type": "display_data"
    },
    {
     "data": {
      "application/vnd.jupyter.widget-view+json": {
       "model_id": "e89f637312514e4faea3fdfd2f783871",
       "version_major": 2,
       "version_minor": 0
      },
      "text/plain": [
       "vocab.txt:   0%|          | 0.00/996k [00:00<?, ?B/s]"
      ]
     },
     "metadata": {},
     "output_type": "display_data"
    },
    {
     "data": {
      "application/vnd.jupyter.widget-view+json": {
       "model_id": "6fc99972878b498393ed01a7c4c50f8b",
       "version_major": 2,
       "version_minor": 0
      },
      "text/plain": [
       "tokenizer.json:   0%|          | 0.00/1.96M [00:00<?, ?B/s]"
      ]
     },
     "metadata": {},
     "output_type": "display_data"
    },
    {
     "data": {
      "application/vnd.jupyter.widget-view+json": {
       "model_id": "64827303c51844179b20bc945e994bdb",
       "version_major": 2,
       "version_minor": 0
      },
      "text/plain": [
       "special_tokens_map.json:   0%|          | 0.00/112 [00:00<?, ?B/s]"
      ]
     },
     "metadata": {},
     "output_type": "display_data"
    },
    {
     "data": {
      "application/vnd.jupyter.widget-view+json": {
       "model_id": "f7a614615ef549b88905349424146a2c",
       "version_major": 2,
       "version_minor": 0
      },
      "text/plain": [
       "1_Pooling/config.json:   0%|          | 0.00/190 [00:00<?, ?B/s]"
      ]
     },
     "metadata": {},
     "output_type": "display_data"
    },
    {
     "data": {
      "application/vnd.jupyter.widget-view+json": {
       "model_id": "d0f9ec0cf28a4669b8c840a210510f34",
       "version_major": 2,
       "version_minor": 0
      },
      "text/plain": [
       "2_Dense/config.json:   0%|          | 0.00/114 [00:00<?, ?B/s]"
      ]
     },
     "metadata": {},
     "output_type": "display_data"
    },
    {
     "data": {
      "application/vnd.jupyter.widget-view+json": {
       "model_id": "ce9d396b1d91492783162f082569a1d6",
       "version_major": 2,
       "version_minor": 0
      },
      "text/plain": [
       "pytorch_model.bin:   0%|          | 0.00/1.58M [00:00<?, ?B/s]"
      ]
     },
     "metadata": {},
     "output_type": "display_data"
    },
    {
     "data": {
      "application/vnd.jupyter.widget-view+json": {
       "model_id": "265ded634eb140d495bcf7b6eeb93a44",
       "version_major": 2,
       "version_minor": 0
      },
      "text/plain": [
       "model.safetensors:   0%|          | 0.00/1.58M [00:00<?, ?B/s]"
      ]
     },
     "metadata": {},
     "output_type": "display_data"
    }
   ],
   "source": [
    "model = SentenceTransformer(\n",
    "    \"distiluse-base-multilingual-cased-v1\", device=\"cuda\"\n",
    ")  # or device=\"cpu\" if you don't have a GPU"
   ]
  },
  {
   "cell_type": "code",
   "execution_count": 3,
   "id": "c8b59048-a7ca-40ff-a0c9-159b3403266c",
   "metadata": {},
   "outputs": [
    {
     "name": "stdout",
     "output_type": "stream",
     "text": [
      "(400000, 2)\n"
     ]
    },
    {
     "data": {
      "text/html": [
       "<div>\n",
       "<style scoped>\n",
       "    .dataframe tbody tr th:only-of-type {\n",
       "        vertical-align: middle;\n",
       "    }\n",
       "\n",
       "    .dataframe tbody tr th {\n",
       "        vertical-align: top;\n",
       "    }\n",
       "\n",
       "    .dataframe thead th {\n",
       "        text-align: right;\n",
       "    }\n",
       "</style>\n",
       "<table border=\"1\" class=\"dataframe\">\n",
       "  <thead>\n",
       "    <tr style=\"text-align: right;\">\n",
       "      <th></th>\n",
       "      <th>link</th>\n",
       "      <th>description</th>\n",
       "    </tr>\n",
       "  </thead>\n",
       "  <tbody>\n",
       "    <tr>\n",
       "      <th>0</th>\n",
       "      <td>https://cdn-st.rutubelist.ru/media/b0/e9/ef285...</td>\n",
       "      <td>#нарезкистримов , #dota2 , #cs2 , #fifa23 , #m...</td>\n",
       "    </tr>\n",
       "    <tr>\n",
       "      <th>1</th>\n",
       "      <td>https://cdn-st.rutubelist.ru/media/39/6c/b31bc...</td>\n",
       "      <td>🤫НЕ ВВОДИ ЭТУ КОМАНДУ В РОБЛОКС ! #shorts #rob...</td>\n",
       "    </tr>\n",
       "  </tbody>\n",
       "</table>\n",
       "</div>"
      ],
      "text/plain": [
       "                                                link  \\\n",
       "0  https://cdn-st.rutubelist.ru/media/b0/e9/ef285...   \n",
       "1  https://cdn-st.rutubelist.ru/media/39/6c/b31bc...   \n",
       "\n",
       "                                         description  \n",
       "0  #нарезкистримов , #dota2 , #cs2 , #fifa23 , #m...  \n",
       "1  🤫НЕ ВВОДИ ЭТУ КОМАНДУ В РОБЛОКС ! #shorts #rob...  "
      ]
     },
     "execution_count": 3,
     "metadata": {},
     "output_type": "execute_result"
    }
   ],
   "source": [
    "df = pd.read_csv(\"../data/yappy_hackaton_2024_400k.csv\")\n",
    "print(df.shape)\n",
    "df.head(2)"
   ]
  },
  {
   "cell_type": "code",
   "execution_count": 4,
   "id": "d259d639-c729-4703-8351-f390f4db8d78",
   "metadata": {},
   "outputs": [
    {
     "data": {
      "text/plain": [
       "link               0\n",
       "description    54919\n",
       "dtype: int64"
      ]
     },
     "execution_count": 4,
     "metadata": {},
     "output_type": "execute_result"
    }
   ],
   "source": [
    "df.isnull().sum(0)"
   ]
  },
  {
   "cell_type": "code",
   "execution_count": 5,
   "id": "60cb226f-d26d-44ff-8dbe-d60c46883d7f",
   "metadata": {},
   "outputs": [
    {
     "name": "stdout",
     "output_type": "stream",
     "text": [
      "(345081, 2)\n"
     ]
    }
   ],
   "source": [
    "df.dropna(inplace=True)\n",
    "print(df.shape)"
   ]
  },
  {
   "cell_type": "code",
   "execution_count": null,
   "id": "5c8318f1-7c48-404c-bbce-88077d752fed",
   "metadata": {},
   "outputs": [],
   "source": []
  },
  {
   "cell_type": "code",
   "execution_count": 6,
   "id": "f9f5f3fa-1230-4563-b772-31fe4307109e",
   "metadata": {},
   "outputs": [
    {
     "data": {
      "application/vnd.jupyter.widget-view+json": {
       "model_id": "ac0eed59429045228d285c5b8b23f629",
       "version_major": 2,
       "version_minor": 0
      },
      "text/plain": [
       "Batches:   0%|          | 0/10784 [00:00<?, ?it/s]"
      ]
     },
     "metadata": {},
     "output_type": "display_data"
    },
    {
     "name": "stdout",
     "output_type": "stream",
     "text": [
      "CPU times: user 3min 33s, sys: 11.4 s, total: 3min 44s\n",
      "Wall time: 2min 34s\n"
     ]
    }
   ],
   "source": [
    "%%time\n",
    "\n",
    "vectors = model.encode(\n",
    "    # [row.description for row in df.itertuples()],\n",
    "    df.description.tolist(),\n",
    "    show_progress_bar=True,\n",
    ")"
   ]
  },
  {
   "cell_type": "code",
   "execution_count": 7,
   "id": "468cc2c4-4a75-478d-a199-05d24c9c3cc6",
   "metadata": {},
   "outputs": [],
   "source": [
    "np.save(\"../data/lct_description_vectors.npy\", vectors, allow_pickle=False)"
   ]
  },
  {
   "cell_type": "code",
   "execution_count": null,
   "id": "8d642ccf-c645-4357-afd3-37a9358f3312",
   "metadata": {},
   "outputs": [],
   "source": []
  },
  {
   "cell_type": "code",
   "execution_count": 10,
   "id": "6ce66018-2e02-4e46-9a60-e86d52c46d81",
   "metadata": {},
   "outputs": [],
   "source": [
    "# Import client library\n",
    "from qdrant_client import QdrantClient\n",
    "from qdrant_client.models import VectorParams, Distance\n",
    "\n",
    "client = QdrantClient(\"http://localhost:6333\")"
   ]
  },
  {
   "cell_type": "code",
   "execution_count": 11,
   "id": "2c967537-dc10-4b80-9385-57aa8af91db9",
   "metadata": {},
   "outputs": [
    {
     "name": "stderr",
     "output_type": "stream",
     "text": [
      "/tmp/ipykernel_20266/1533277188.py:1: DeprecationWarning: `recreate_collection` method is deprecated and will be removed in the future. Use `collection_exists` to check collection existence and `create_collection` instead.\n",
      "  client.recreate_collection(\n"
     ]
    },
    {
     "data": {
      "text/plain": [
       "True"
      ]
     },
     "execution_count": 11,
     "metadata": {},
     "output_type": "execute_result"
    }
   ],
   "source": [
    "client.recreate_collection(\n",
    "    collection_name=\"lct_description\",\n",
    "    vectors_config=VectorParams(size=512, distance=Distance.COSINE),\n",
    ")"
   ]
  },
  {
   "cell_type": "code",
   "execution_count": 12,
   "id": "64ddbc66-9d50-4216-96a7-4a791bd04c79",
   "metadata": {},
   "outputs": [
    {
     "name": "stdout",
     "output_type": "stream",
     "text": [
      "CPU times: user 22.2 s, sys: 180 ms, total: 22.4 s\n",
      "Wall time: 22.3 s\n"
     ]
    }
   ],
   "source": [
    "%%time\n",
    "\n",
    "pl = iter([row.to_dict() for _, row in df.iterrows()])"
   ]
  },
  {
   "cell_type": "code",
   "execution_count": null,
   "id": "86522066-d2f1-4f93-9a5e-494ad161cef0",
   "metadata": {},
   "outputs": [],
   "source": []
  },
  {
   "cell_type": "code",
   "execution_count": 15,
   "id": "3e16a07b-2a80-4b02-bc65-6a34ad9670d0",
   "metadata": {},
   "outputs": [
    {
     "name": "stdout",
     "output_type": "stream",
     "text": [
      "CPU times: user 15min 53s, sys: 8.98 s, total: 16min 2s\n",
      "Wall time: 16min 32s\n"
     ]
    }
   ],
   "source": [
    "%%time\n",
    "\n",
    "client.upload_collection(\n",
    "    collection_name=\"lct_description\",\n",
    "    vectors=vectors,\n",
    "    payload=pl,\n",
    "    ids=None,  # Vector ids will be assigned automatically\n",
    "    batch_size=256,  # How many vectors will be uploaded in a single request?\n",
    ")"
   ]
  },
  {
   "cell_type": "code",
   "execution_count": null,
   "id": "54808944-ed55-4bca-b593-dd25f307a93e",
   "metadata": {},
   "outputs": [],
   "source": []
  },
  {
   "cell_type": "code",
   "execution_count": 16,
   "id": "989db51d-d9c5-4718-9c41-1a7050ceac30",
   "metadata": {},
   "outputs": [],
   "source": [
    "from qdrant_client import QdrantClient\n",
    "from sentence_transformers import SentenceTransformer\n",
    "\n",
    "\n",
    "class NeuralSearcher:\n",
    "    def __init__(self, collection_name):\n",
    "        self.collection_name = collection_name\n",
    "        # Initialize encoder model\n",
    "        self.model = SentenceTransformer(\"distiluse-base-multilingual-cased-v1\", device=\"cuda\")\n",
    "        # initialize Qdrant client\n",
    "        self.qdrant_client = QdrantClient(\"http://localhost:6333\")\n",
    "        \n",
    "    def search(self, text: str):\n",
    "        # Convert text query into vector\n",
    "        vector = self.model.encode(text).tolist()\n",
    "\n",
    "        # Use `vector` for search for closest vectors in the collection\n",
    "        search_result = self.qdrant_client.search(\n",
    "            collection_name=self.collection_name,\n",
    "            query_vector=vector,\n",
    "            query_filter=None,  # If you don't want any filters for now\n",
    "            limit=10,  # 5 the most closest results is enough\n",
    "        )\n",
    "        # `search_result` contains found vector ids with similarity scores along with the stored payload\n",
    "        # In this function you are interested in payload only\n",
    "        payloads = [hit.payload for hit in search_result]\n",
    "        return payloads"
   ]
  },
  {
   "cell_type": "code",
   "execution_count": 17,
   "id": "c835668c-1ea6-4dda-a636-7135098af46a",
   "metadata": {},
   "outputs": [],
   "source": [
    "neural_searcher = NeuralSearcher(collection_name=\"lct_description\")\n"
   ]
  },
  {
   "cell_type": "code",
   "execution_count": 62,
   "id": "80c62219-31ad-45ed-be64-d94b0f9ecc62",
   "metadata": {},
   "outputs": [
    {
     "name": "stdout",
     "output_type": "stream",
     "text": [
      "CPU times: user 17.2 ms, sys: 8.11 ms, total: 25.3 ms\n",
      "Wall time: 25.7 ms\n"
     ]
    },
    {
     "data": {
      "text/plain": [
       "[{'description': 'Кукуруза',\n",
       "  'link': 'https://cdn-st.rutubelist.ru/media/0e/a6/2fc37e6c47f7807c5f967f4fef68/fhd.mp4'},\n",
       " {'description': 'гача',\n",
       "  'link': 'https://cdn-st.rutubelist.ru/media/64/95/aedf9df84e0dab31c7aa21685127/fhd.mp4'},\n",
       " {'description': 'гача',\n",
       "  'link': 'https://cdn-st.rutubelist.ru/media/a3/f9/b56a51b44b2780814a69baad88a4/fhd.mp4'},\n",
       " {'description': 'Кабачок',\n",
       "  'link': 'https://cdn-st.rutubelist.ru/media/e2/3d/f627156d4d599a08e12d9cc3b813/fhd.mp4'},\n",
       " {'description': 'Канеки',\n",
       "  'link': 'https://cdn-st.rutubelist.ru/media/ee/aa/0b7a879b4db6817bc9b2ecbcbe33/fhd.mp4'},\n",
       " {'description': 'devochkki',\n",
       "  'link': 'https://cdn-st.rutubelist.ru/media/60/e2/3e7ec1ad4b22a0f7d2f35818b037/fhd.mp4'},\n",
       " {'description': 'Крупа',\n",
       "  'link': 'https://cdn-st.rutubelist.ru/media/b9/ee/300ec4ff496082d86a8c3303bc6b/fhd.mp4'},\n",
       " {'description': 'cozyyyy 🧸🧸',\n",
       "  'link': 'https://cdn-st.rutubelist.ru/media/a2/73/f9ab48d54bb9b128ef49b5eeddb5/fhd.mp4'},\n",
       " {'description': 'сушка',\n",
       "  'link': 'https://cdn-st.rutubelist.ru/media/a7/d6/5f2e3f0b4b2d861fb48be5839bd8/fhd.mp4'},\n",
       " {'description': 'ага',\n",
       "  'link': 'https://cdn-st.rutubelist.ru/media/37/a1/52135a354417a0863d4b672c0ecc/fhd.mp4'}]"
      ]
     },
     "execution_count": 62,
     "metadata": {},
     "output_type": "execute_result"
    }
   ],
   "source": [
    "%%time\n",
    "\n",
    "neural_searcher.search(text='кукинг')"
   ]
  },
  {
   "cell_type": "code",
   "execution_count": null,
   "id": "08c7d722-8f87-4f4c-9909-5ada81f5a2d6",
   "metadata": {},
   "outputs": [],
   "source": []
  },
  {
   "cell_type": "code",
   "execution_count": null,
   "id": "c1c2c8b7-0c1d-4aa1-a4a6-cd3092859d87",
   "metadata": {},
   "outputs": [],
   "source": []
  },
  {
   "cell_type": "code",
   "execution_count": 19,
   "id": "f3bca119-58c7-4240-a3b2-a4309b0aed89",
   "metadata": {},
   "outputs": [
    {
     "name": "stdout",
     "output_type": "stream",
     "text": [
      "CPU times: user 6 ms, sys: 623 µs, total: 6.62 ms\n",
      "Wall time: 328 ms\n"
     ]
    }
   ],
   "source": [
    "%%time\n",
    "\n",
    "import requests\n",
    "resp = requests.get(\"http://127.0.0.1:8000/search\", params={'query': 'домашние животные'})"
   ]
  },
  {
   "cell_type": "code",
   "execution_count": 20,
   "id": "f20e388b-6da6-445c-952e-83732ec7d71f",
   "metadata": {},
   "outputs": [
    {
     "data": {
      "text/plain": [
       "[{'description': '#животные',\n",
       "  'link': 'https://cdn-st.rutubelist.ru/media/d7/7d/203e10a2439caec9e36bc3bcc132/fhd.mp4'},\n",
       " {'description': '#питомцы',\n",
       "  'link': 'https://cdn-st.rutubelist.ru/media/33/75/9db45eeb4f639c94a6425346e487/fhd.mp4'},\n",
       " {'description': '#питомцы',\n",
       "  'link': 'https://cdn-st.rutubelist.ru/media/91/67/c47e99304049b04d355900b6109c/fhd.mp4'},\n",
       " {'description': 'Животные в прошлом',\n",
       "  'link': 'https://cdn-st.rutubelist.ru/media/27/9f/876097984fd8a713675f1e38670e/fhd.mp4'},\n",
       " {'description': 'Ваше любимое животное',\n",
       "  'link': 'https://cdn-st.rutubelist.ru/media/1d/99/f31b870c4d8ea9e16a08d41f5268/fhd.mp4'},\n",
       " {'description': 'А у вас есть домашнее животное ❓',\n",
       "  'link': 'https://cdn-st.rutubelist.ru/media/80/2a/412e15764e259dd53517c9345150/fhd.mp4'},\n",
       " {'description': '#чихуахуа#животные',\n",
       "  'link': 'https://cdn-st.rutubelist.ru/media/75/aa/0513064a423aa5234d8101b2f169/fhd.mp4'},\n",
       " {'description': '#кот #питомцы #животные',\n",
       "  'link': 'https://cdn-st.rutubelist.ru/media/de/e1/9cf846744a2586573e3179103dfb/fhd.mp4'},\n",
       " {'description': 'Рельефный животик',\n",
       "  'link': 'https://cdn-st.rutubelist.ru/media/1d/fc/f11d80644ba4ae6e228e1f7c8338/fhd.mp4'},\n",
       " {'description': 'Животные на площадке?🐩',\n",
       "  'link': 'https://cdn-st.rutubelist.ru/media/4d/d3/d0d90853430f81b56310ad82eced/fhd.mp4'}]"
      ]
     },
     "execution_count": 20,
     "metadata": {},
     "output_type": "execute_result"
    }
   ],
   "source": [
    "resp.json()"
   ]
  },
  {
   "cell_type": "code",
   "execution_count": null,
   "id": "89618f4c-8953-4630-b623-6cfc0b3061c8",
   "metadata": {},
   "outputs": [],
   "source": []
  }
 ],
 "metadata": {
  "kernelspec": {
   "display_name": "Python 3 (ipykernel)",
   "language": "python",
   "name": "python3"
  },
  "language_info": {
   "codemirror_mode": {
    "name": "ipython",
    "version": 3
   },
   "file_extension": ".py",
   "mimetype": "text/x-python",
   "name": "python",
   "nbconvert_exporter": "python",
   "pygments_lexer": "ipython3",
   "version": "3.8.10"
  }
 },
 "nbformat": 4,
 "nbformat_minor": 5
}
